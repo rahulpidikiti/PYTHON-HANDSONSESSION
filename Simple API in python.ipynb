{
 "cells": [
  {
   "cell_type": "markdown",
   "metadata": {},
   "source": [
    "<center>\n",
    "    <img src=\"https://cf-courses-data.s3.us.cloud-object-storage.appdomain.cloud/IBMDeveloperSkillsNetwork-PY0101EN-SkillsNetwork/IDSNlogo.png\" width=\"300\" alt=\"cognitiveclass.ai logo\"  />\n",
    "</center>\n",
    "\n",
    "# Application Programming Interface\n",
    "\n",
    "Estimated time needed: **15** minutes\n",
    "\n",
    "## Objectives\n",
    "\n",
    "After completing this lab you will be able to:\n",
    "\n",
    "-   Create and Use APIs in Python\n"
   ]
  },
  {
   "cell_type": "markdown",
   "metadata": {},
   "source": [
    "### Introduction\n",
    "\n",
    "An API lets two pieces of software talk to each other. Just like a function,  you don’t have to know how the API works only its inputs and outputs.  An essential type of API is a REST API that allows you to access resources via the internet. In this lab, we will review the Pandas Library  in the context of an API, we will also review a basic REST API  \n"
   ]
  },
  {
   "cell_type": "markdown",
   "metadata": {},
   "source": [
    "## Table of Contents\n",
    "\n",
    "<div class=\"alert alert-block alert-info\" style=\"margin-top: 20px\">\n",
    "<li><a href=\"#ref0\">Pandas is an API</a></li>\n",
    "<li><a href=\"#ref1\">REST APIs Basics  </a></li>\n",
    "<li><a href=\"#ref2\">Quiz on Tuples</a></li>\n",
    "\n",
    "</div>\n",
    "\n",
    "<hr>\n"
   ]
  },
  {
   "cell_type": "code",
   "execution_count": 3,
   "metadata": {
    "jupyter": {
     "outputs_hidden": false
    }
   },
   "outputs": [
    {
     "name": "stdout",
     "output_type": "stream",
     "text": [
      "Requirement already satisfied: pycoingecko in c:\\users\\akhila\\anaconda3\\lib\\site-packages (2.0.0)\n",
      "Requirement already satisfied: requests in c:\\users\\akhila\\anaconda3\\lib\\site-packages (from pycoingecko) (2.24.0)\n",
      "Requirement already satisfied: chardet<4,>=3.0.2 in c:\\users\\akhila\\anaconda3\\lib\\site-packages (from requests->pycoingecko) (3.0.4)\n",
      "Requirement already satisfied: idna<3,>=2.5 in c:\\users\\akhila\\anaconda3\\lib\\site-packages (from requests->pycoingecko) (2.10)\n",
      "Requirement already satisfied: urllib3!=1.25.0,!=1.25.1,<1.26,>=1.21.1 in c:\\users\\akhila\\anaconda3\\lib\\site-packages (from requests->pycoingecko) (1.25.11)\n",
      "Requirement already satisfied: certifi>=2017.4.17 in c:\\users\\akhila\\anaconda3\\lib\\site-packages (from requests->pycoingecko) (2020.6.20)\n",
      "Requirement already satisfied: plotly in c:\\users\\akhila\\anaconda3\\lib\\site-packages (4.14.3)\n",
      "Requirement already satisfied: six in c:\\users\\akhila\\appdata\\roaming\\python\\python38\\site-packages (from plotly) (1.14.0)\n",
      "Requirement already satisfied: retrying>=1.3.3 in c:\\users\\akhila\\anaconda3\\lib\\site-packages (from plotly) (1.3.3)\n",
      "Requirement already satisfied: mplfinance in c:\\users\\akhila\\anaconda3\\lib\\site-packages (0.12.7a17)\n",
      "Requirement already satisfied: matplotlib in c:\\users\\akhila\\anaconda3\\lib\\site-packages (from mplfinance) (3.3.1)\n",
      "Requirement already satisfied: pandas in c:\\users\\akhila\\anaconda3\\lib\\site-packages (from mplfinance) (1.1.3)\n",
      "Requirement already satisfied: pyparsing!=2.0.4,!=2.1.2,!=2.1.6,>=2.0.3 in c:\\users\\akhila\\anaconda3\\lib\\site-packages (from matplotlib->mplfinance) (2.4.7)\n",
      "Requirement already satisfied: pillow>=6.2.0 in c:\\users\\akhila\\anaconda3\\lib\\site-packages (from matplotlib->mplfinance) (8.0.1)\n",
      "Requirement already satisfied: certifi>=2020.06.20 in c:\\users\\akhila\\anaconda3\\lib\\site-packages (from matplotlib->mplfinance) (2020.6.20)\n",
      "Requirement already satisfied: cycler>=0.10 in c:\\users\\akhila\\anaconda3\\lib\\site-packages (from matplotlib->mplfinance) (0.10.0)\n",
      "Requirement already satisfied: numpy>=1.15 in c:\\users\\akhila\\anaconda3\\lib\\site-packages (from matplotlib->mplfinance) (1.19.2)\n",
      "Requirement already satisfied: kiwisolver>=1.0.1 in c:\\users\\akhila\\anaconda3\\lib\\site-packages (from matplotlib->mplfinance) (1.3.0)\n",
      "Requirement already satisfied: python-dateutil>=2.1 in c:\\users\\akhila\\anaconda3\\lib\\site-packages (from matplotlib->mplfinance) (2.8.1)\n",
      "Requirement already satisfied: pytz>=2017.2 in c:\\users\\akhila\\anaconda3\\lib\\site-packages (from pandas->mplfinance) (2020.1)\n",
      "Requirement already satisfied: six in c:\\users\\akhila\\appdata\\roaming\\python\\python38\\site-packages (from cycler>=0.10->matplotlib->mplfinance) (1.14.0)\n"
     ]
    }
   ],
   "source": [
    "!pip install pycoingecko\n",
    "!pip install plotly\n",
    "!pip install mplfinance"
   ]
  },
  {
   "cell_type": "markdown",
   "metadata": {},
   "source": [
    "<h2 id=\"PandasAPI\">Pandas is an API </h2>\n"
   ]
  },
  {
   "cell_type": "markdown",
   "metadata": {},
   "source": [
    "Pandas is actually set of software components , much of  which is not even written in Python.\n"
   ]
  },
  {
   "cell_type": "code",
   "execution_count": 4,
   "metadata": {
    "jupyter": {
     "outputs_hidden": false
    }
   },
   "outputs": [],
   "source": [
    "import pandas as pd\n",
    "import numpy as np\n",
    "import plotly.graph_objects as go\n",
    "from plotly.offline import plot\n",
    "import matplotlib.pyplot as plt\n",
    "import datetime\n",
    "from pycoingecko import CoinGeckoAPI\n",
    "from mplfinance.original_flavor import candlestick2_ohlc"
   ]
  },
  {
   "cell_type": "markdown",
   "metadata": {},
   "source": [
    "You create a dictionary, this is just data.\n"
   ]
  },
  {
   "cell_type": "code",
   "execution_count": 5,
   "metadata": {
    "jupyter": {
     "outputs_hidden": false
    }
   },
   "outputs": [],
   "source": [
    "dict_={'a':[11,21,31],'b':[12,22,32]}"
   ]
  },
  {
   "cell_type": "markdown",
   "metadata": {},
   "source": [
    "When you create a Pandas object with the Dataframe constructor in API lingo, this is an \"instance\". The data in the dictionary is passed along to the pandas API. You then use the dataframe to communicate with the API.\n"
   ]
  },
  {
   "cell_type": "code",
   "execution_count": 6,
   "metadata": {
    "jupyter": {
     "outputs_hidden": false
    }
   },
   "outputs": [
    {
     "data": {
      "text/plain": [
       "pandas.core.frame.DataFrame"
      ]
     },
     "execution_count": 6,
     "metadata": {},
     "output_type": "execute_result"
    }
   ],
   "source": [
    "df=pd.DataFrame(dict_)\n",
    "type(df)"
   ]
  },
  {
   "cell_type": "markdown",
   "metadata": {},
   "source": [
    "<img src = \"https://cf-courses-data.s3.us.cloud-object-storage.appdomain.cloud/IBMDeveloperSkillsNetwork-PY0101EN-SkillsNetwork/labs/Module%205/images/pandas_api.png\" width = 800, align = \"center\" alt=\"logistic regression block diagram\" />\n"
   ]
  },
  {
   "cell_type": "markdown",
   "metadata": {},
   "source": [
    "When you call the method head the dataframe communicates with the API displaying the first few rows of the dataframe.\n"
   ]
  },
  {
   "cell_type": "code",
   "execution_count": 7,
   "metadata": {
    "jupyter": {
     "outputs_hidden": false
    }
   },
   "outputs": [
    {
     "data": {
      "text/html": [
       "<div>\n",
       "<style scoped>\n",
       "    .dataframe tbody tr th:only-of-type {\n",
       "        vertical-align: middle;\n",
       "    }\n",
       "\n",
       "    .dataframe tbody tr th {\n",
       "        vertical-align: top;\n",
       "    }\n",
       "\n",
       "    .dataframe thead th {\n",
       "        text-align: right;\n",
       "    }\n",
       "</style>\n",
       "<table border=\"1\" class=\"dataframe\">\n",
       "  <thead>\n",
       "    <tr style=\"text-align: right;\">\n",
       "      <th></th>\n",
       "      <th>a</th>\n",
       "      <th>b</th>\n",
       "    </tr>\n",
       "  </thead>\n",
       "  <tbody>\n",
       "    <tr>\n",
       "      <th>0</th>\n",
       "      <td>11</td>\n",
       "      <td>12</td>\n",
       "    </tr>\n",
       "    <tr>\n",
       "      <th>1</th>\n",
       "      <td>21</td>\n",
       "      <td>22</td>\n",
       "    </tr>\n",
       "    <tr>\n",
       "      <th>2</th>\n",
       "      <td>31</td>\n",
       "      <td>32</td>\n",
       "    </tr>\n",
       "  </tbody>\n",
       "</table>\n",
       "</div>"
      ],
      "text/plain": [
       "    a   b\n",
       "0  11  12\n",
       "1  21  22\n",
       "2  31  32"
      ]
     },
     "execution_count": 7,
     "metadata": {},
     "output_type": "execute_result"
    }
   ],
   "source": [
    "df.head()"
   ]
  },
  {
   "cell_type": "markdown",
   "metadata": {},
   "source": [
    "When you call the method mean,the API will calculate the mean and return the value.\n"
   ]
  },
  {
   "cell_type": "code",
   "execution_count": 8,
   "metadata": {
    "jupyter": {
     "outputs_hidden": false
    }
   },
   "outputs": [
    {
     "data": {
      "text/plain": [
       "a    21.0\n",
       "b    22.0\n",
       "dtype: float64"
      ]
     },
     "execution_count": 8,
     "metadata": {},
     "output_type": "execute_result"
    }
   ],
   "source": [
    "df.mean()"
   ]
  },
  {
   "cell_type": "markdown",
   "metadata": {},
   "source": [
    "<h2 id=\"ref1\">REST APIs</h2>\n"
   ]
  },
  {
   "cell_type": "markdown",
   "metadata": {},
   "source": [
    "Rest API’s function by sending a request,  the request is communicated via HTTP message. The HTTP message usually contains a JSON file. This contains instructions for what operation we would like the service or resource to perform. In a similar manner, API returns a response, via an HTTP message, this response is usually contained within a JSON.\n",
    "\n",
    "In cryptocurrency a popular method to display the movements of the price of a currency.\n",
    "\n",
    "![Example Candlestick Graph](https://cf-courses-data.s3.us.cloud-object-storage.appdomain.cloud/IBMDeveloperSkillsNetwork-PY0101EN-SkillsNetwork/labs/Module%205/candlestick.png)\n",
    "\n",
    "Here is a description of the candle sticks.\n",
    "\n",
    "<img src=\"https://cf-courses-data.s3.us.cloud-object-storage.appdomain.cloud/IBMDeveloperSkillsNetwork-PY0101EN-SkillsNetwork/labs/Module%205/explanation.png\" alt=\"Candle Stick Definition\" width=\"800\" height=\"600\">\n",
    "\n",
    "In this lab, we will be using the <a href=https://www.coingecko.com/en/api?utm_medium=Exinfluencer&utm_source=Exinfluencer&utm_content=000026UJ&utm_term=10006555&utm_id=NA-SkillsNetwork-Channel-SkillsNetworkCoursesIBMDeveloperSkillsNetworkPY0101ENSkillsNetwork19487395-2021-01-01>CoinGecko API</a> to create one of these candlestick graphs for Bitcoin. We will use the API to get the price data for 30 days with 24 observation per day, 1 per hour. We will find the max, min, open, and close price per day meaning we will have 30 candlesticks and use that to generate the candlestick graph. Although we are using the CoinGecko API we will use a Python client/wrapper for the API called <a href=https://github.com/man-c/pycoingecko?utm_medium=Exinfluencer&utm_source=Exinfluencer&utm_content=000026UJ&utm_term=10006555&utm_id=NA-SkillsNetwork-Channel-SkillsNetworkCoursesIBMDeveloperSkillsNetworkPY0101ENSkillsNetwork19487395-2021-01-01>PyCoinGecko</a>. PyCoinGecko will make performing the requests easy and it will deal with the enpoint targeting.\n"
   ]
  },
  {
   "cell_type": "markdown",
   "metadata": {},
   "source": [
    "Lets start off by getting the data we need. Using the <code>get_coin_market_chart_by_id(id, vs_currency, days)</code>. <code>id</code> is the name of the coin you want, <code>vs_currency</code> is the currency you want the price in, and <code>days</code> is how many days back from today you want.\n"
   ]
  },
  {
   "cell_type": "code",
   "execution_count": 9,
   "metadata": {},
   "outputs": [],
   "source": [
    "cg = CoinGeckoAPI()\n",
    "\n",
    "bitcoin_data = cg.get_coin_market_chart_by_id(id='bitcoin', vs_currency='usd', days=30)"
   ]
  },
  {
   "cell_type": "code",
   "execution_count": 10,
   "metadata": {},
   "outputs": [
    {
     "data": {
      "text/plain": [
       "dict"
      ]
     },
     "execution_count": 10,
     "metadata": {},
     "output_type": "execute_result"
    }
   ],
   "source": [
    "type(bitcoin_data )"
   ]
  },
  {
   "cell_type": "markdown",
   "metadata": {},
   "source": [
    "The response we get is in the form of a JSON which includes the price, market caps, and total volumes along with timestamps for each observation. We are focused on the prices so we will select that data.\n"
   ]
  },
  {
   "cell_type": "code",
   "execution_count": 11,
   "metadata": {},
   "outputs": [
    {
     "data": {
      "text/plain": [
       "[[1619247791088, 50365.947028664596],\n",
       " [1619251572586, 49890.66129496305],\n",
       " [1619254961797, 50041.59507088961],\n",
       " [1619258659114, 49675.94394721126],\n",
       " [1619262182925, 49219.007851825816]]"
      ]
     },
     "execution_count": 11,
     "metadata": {},
     "output_type": "execute_result"
    }
   ],
   "source": [
    "bitcoin_price_data = bitcoin_data['prices']\n",
    "\n",
    "bitcoin_price_data[0:5]"
   ]
  },
  {
   "cell_type": "markdown",
   "metadata": {},
   "source": [
    "Finally lets turn this data into a Pandas DataFrame.\n"
   ]
  },
  {
   "cell_type": "code",
   "execution_count": 13,
   "metadata": {},
   "outputs": [],
   "source": [
    "data = pd.DataFrame(bitcoin_price_data, columns=['TimeStamp', 'Price'])"
   ]
  },
  {
   "cell_type": "markdown",
   "metadata": {},
   "source": [
    "Now that we have the DataFrame we will convert the timestamp to datetime and save it as a column called <code>Date</code>. We will map our <code>unix_to_datetime</code> to each timestamp and convert it to a readable datetime.\n"
   ]
  },
  {
   "cell_type": "code",
   "execution_count": 14,
   "metadata": {},
   "outputs": [],
   "source": [
    "data['Date'] = pd.to_datetime(data['TimeStamp'], unit='ms')"
   ]
  },
  {
   "cell_type": "markdown",
   "metadata": {},
   "source": [
    "Using this modified dataset we can now group by the <code>Date</code> and find the min, max, open, and close for the candlesticks.\n"
   ]
  },
  {
   "cell_type": "code",
   "execution_count": 15,
   "metadata": {},
   "outputs": [],
   "source": [
    "candlestick_data = data.groupby(data.Date.dt.date, as_index=False).agg({\"Price\": ['min', 'max', 'first', 'last']})"
   ]
  },
  {
   "cell_type": "markdown",
   "metadata": {},
   "source": [
    "Finally we are now ready to use plotly to create our Candlestick Chart.\n"
   ]
  },
  {
   "cell_type": "code",
   "execution_count": 17,
   "metadata": {},
   "outputs": [
    {
     "data": {
      "application/vnd.plotly.v1+json": {
       "config": {
        "plotlyServerURL": "https://plot.ly"
       },
       "data": [
        {
         "close": [
          50601.95214099316,
          48826.52065650017,
          53589.6752998928,
          54997.291345118225,
          54462.38634298567,
          53395.17699522727,
          57166.66441986013,
          57669.860487076316,
          56433.44851800957,
          57336.828870254896,
          54151.075423453054,
          57215.27232018931,
          56478.83446437289,
          57128.612400378996,
          58603.915501403884,
          58050.12752524915,
          56274.44427494624,
          56430.89675789497,
          52906.5349801564,
          49333.97284824189,
          49950.26944122073,
          48159.550779483354,
          45683.458099465715,
          42746.0714310115,
          43022.377837006185,
          39154.208053364164,
          41596.34807310815,
          37384.01908733165,
          37828.54390512896,
          33995.040863381786,
          35514.780878819714
         ],
         "high": [
          50962.47527923396,
          50510.96535053292,
          54315.67773597412,
          55473.0657777974,
          55530.513360661644,
          54810.6138506792,
          57210.138362768965,
          58721.7528896422,
          57812.96915967891,
          58833.861160841436,
          57152.912830872694,
          57674.240224065914,
          57999.34933717332,
          58139.00714757722,
          59271.44174969064,
          59092.64434966951,
          59577.80355554711,
          56824.63058972232,
          57781.57445959879,
          51259.47411845293,
          51253.26526154562,
          50615.466771836946,
          49676.81873777044,
          46585.06413538846,
          45549.156681471184,
          43091.04144756922,
          41947.19671093911,
          41757.137344607865,
          38546.59909947474,
          38360.64102852076,
          35531.53082944085
         ],
         "low": [
          48985.689867411566,
          47409.78302911801,
          48981.4413932161,
          53456.0913723206,
          54135.005312343856,
          52881.63656182149,
          53456.22811013035,
          57368.69249425147,
          56387.95830875742,
          56600.74528738432,
          53612.73560384135,
          53464.37021950372,
          55774.659224122544,
          55847.107640361384,
          57361.56904328887,
          56636.68490288338,
          55240.32123935162,
          54951.20708027075,
          52906.5349801564,
          48267.77747317404,
          49049.41867355618,
          47740.05005733954,
          44490.79522240914,
          42600.14692405195,
          42815.40466270814,
          36573.548038076166,
          37440.3029973854,
          34386.60959211036,
          35920.891746795896,
          32458.122485384694,
          34850.73178718457
         ],
         "open": [
          50365.947028664596,
          50133.1073963654,
          48981.4413932161,
          54019.26878317463,
          54991.81484262107,
          54810.6138506792,
          53596.70402266675,
          57828.511814425874,
          57812.96915967891,
          56600.74528738432,
          57152.912830872694,
          53464.37021950372,
          57432.100227087576,
          56507.759439869595,
          57361.56904328887,
          58771.881689509355,
          58213.926293744385,
          55901.66759456145,
          56928.97235660158,
          50004.76218313686,
          49972.795398372444,
          49913.26314398822,
          46780.902304688214,
          46585.06413538846,
          43780.82559782485,
          43091.04144756922,
          38040.94334633126,
          41161.937246335125,
          37073.00455951342,
          37032.67236508104,
          34892.633299037465
         ],
         "type": "candlestick",
         "x": [
          "2021-04-24T07:03:11.088000",
          "2021-04-24T08:06:12.586000",
          "2021-04-24T09:02:41.797000",
          "2021-04-24T10:04:19.114000",
          "2021-04-24T11:03:02.925000",
          "2021-04-24T12:03:08.328000",
          "2021-04-24T13:08:33.348000",
          "2021-04-24T14:04:22.599000",
          "2021-04-24T15:02:12.511000",
          "2021-04-24T16:03:34.140000",
          "2021-04-24T17:02:47.101000",
          "2021-04-24T18:03:31.230000",
          "2021-04-24T19:03:03.323000",
          "2021-04-24T20:04:05.030000",
          "2021-04-24T21:04:20.449000",
          "2021-04-24T22:04:29.284000",
          "2021-04-24T23:02:46.767000",
          "2021-04-25T00:04:09.010000",
          "2021-04-25T01:05:06.065000",
          "2021-04-25T02:00:33.833000",
          "2021-04-25T03:00:29.533000",
          "2021-04-25T04:02:48.828000",
          "2021-04-25T05:05:23.202000",
          "2021-04-25T06:02:51.768000",
          "2021-04-25T07:03:39.572000",
          "2021-04-25T08:01:50.604000",
          "2021-04-25T09:05:37.576000",
          "2021-04-25T10:05:19.779000",
          "2021-04-25T11:03:57.597000",
          "2021-04-25T12:04:06.962000",
          "2021-04-25T13:11:15.773000",
          "2021-04-25T14:18:45.126000",
          "2021-04-25T15:02:08.550000",
          "2021-04-25T16:04:23.560000",
          "2021-04-25T17:04:19.351000",
          "2021-04-25T18:05:55.542000",
          "2021-04-25T19:05:39.676000",
          "2021-04-25T20:04:40.719000",
          "2021-04-25T21:02:46.226000",
          "2021-04-25T22:03:40.980000",
          "2021-04-25T23:02:53.137000",
          "2021-04-26T00:01:13.539000",
          "2021-04-26T01:08:40.750000",
          "2021-04-26T02:04:48.925000",
          "2021-04-26T03:05:06.174000",
          "2021-04-26T04:04:01.573000",
          "2021-04-26T05:04:18.096000",
          "2021-04-26T06:03:29.842000",
          "2021-04-26T07:03:20.347000",
          "2021-04-26T08:06:08.676000",
          "2021-04-26T09:02:24.602000",
          "2021-04-26T10:04:04.231000",
          "2021-04-26T11:04:49.622000",
          "2021-04-26T12:03:21.827000",
          "2021-04-26T13:09:19.295000",
          "2021-04-26T15:00:41.116000",
          "2021-04-26T15:37:29.812000",
          "2021-04-26T16:17:54.624000",
          "2021-04-26T17:04:24.321000",
          "2021-04-26T18:04:00.495000",
          "2021-04-26T19:05:20.030000",
          "2021-04-26T20:05:12.919000",
          "2021-04-26T21:01:09.882000",
          "2021-04-26T22:04:18.281000",
          "2021-04-26T23:05:03.784000",
          "2021-04-27T00:05:44.162000",
          "2021-04-27T01:07:24.418000",
          "2021-04-27T02:02:51.494000",
          "2021-04-27T03:03:04.917000",
          "2021-04-27T04:01:20.871000",
          "2021-04-27T05:03:35.336000",
          "2021-04-27T06:04:15.813000",
          "2021-04-27T07:02:40.808000",
          "2021-04-27T08:06:49.335000",
          "2021-04-27T09:01:14.035000",
          "2021-04-27T10:04:36.133000",
          "2021-04-27T11:04:41.386000",
          "2021-04-27T12:01:23.985000",
          "2021-04-27T13:08:20.472000",
          "2021-04-27T14:19:09.962000",
          "2021-04-27T15:18:33.738000",
          "2021-04-27T16:01:23.223000",
          "2021-04-27T17:04:15.684000",
          "2021-04-27T18:03:19.058000",
          "2021-04-27T19:03:56.144000",
          "2021-04-27T20:01:39.522000",
          "2021-04-27T21:03:10.425000",
          "2021-04-27T22:04:13.064000",
          "2021-04-27T23:02:54.508000",
          "2021-04-28T00:01:06.360000",
          "2021-04-28T01:06:18.018000",
          "2021-04-28T02:04:43.600000",
          "2021-04-28T03:04:07.091000",
          "2021-04-28T04:02:06.531000",
          "2021-04-28T05:03:30.884000",
          "2021-04-28T06:01:27.548000",
          "2021-04-28T07:05:34.439000",
          "2021-04-28T08:02:28.451000",
          "2021-04-28T09:00:04.877000",
          "2021-04-28T10:04:02.295000",
          "2021-04-28T11:04:49.829000",
          "2021-04-28T12:02:54.879000",
          "2021-04-28T13:06:46.445000",
          "2021-04-28T14:02:11.607000",
          "2021-04-28T15:01:27.528000",
          "2021-04-28T16:02:41.462000",
          "2021-04-28T17:02:15.588000",
          "2021-04-28T18:00:15.550000",
          "2021-04-28T19:03:21.053000",
          "2021-04-28T20:01:10.018000",
          "2021-04-28T21:03:28.879000",
          "2021-04-28T22:04:26.821000",
          "2021-04-28T23:04:08.136000",
          "2021-04-29T00:01:30.820000",
          "2021-04-29T01:05:28.938000",
          "2021-04-29T02:03:30.065000",
          "2021-04-29T03:03:07.089000",
          "2021-04-29T04:04:07.187000",
          "2021-04-29T05:02:02.560000",
          "2021-04-29T06:00:55.357000",
          "2021-04-29T07:03:29.563000",
          "2021-04-29T08:04:28.853000",
          "2021-04-29T09:03:28.786000",
          "2021-04-29T10:04:20.323000",
          "2021-04-29T11:01:42.620000",
          "2021-04-29T12:02:07.948000",
          "2021-04-29T13:04:57.036000",
          "2021-04-29T14:00:43.262000",
          "2021-04-29T15:04:08.013000",
          "2021-04-29T16:02:29.302000",
          "2021-04-29T17:05:32.559000",
          "2021-04-29T18:03:03.759000",
          "2021-04-29T19:01:29.788000",
          "2021-04-29T20:04:03.780000",
          "2021-04-29T21:02:21.299000",
          "2021-04-29T22:05:07.556000",
          "2021-04-29T23:02:45.156000",
          "2021-04-30T00:03:20.124000",
          "2021-04-30T01:17:27.754000",
          "2021-04-30T02:02:56.757000",
          "2021-04-30T03:05:12.659000",
          "2021-04-30T04:02:10.833000",
          "2021-04-30T05:03:13.541000",
          "2021-04-30T06:02:19.403000",
          "2021-04-30T07:01:39.665000",
          "2021-04-30T08:03:10.038000",
          "2021-04-30T09:02:30.971000",
          "2021-04-30T10:01:40.741000",
          "2021-04-30T11:01:38.256000",
          "2021-04-30T12:05:58.315000",
          "2021-04-30T13:12:47.860000",
          "2021-04-30T14:11:31.243000",
          "2021-04-30T15:06:23.928000",
          "2021-04-30T16:02:03.529000",
          "2021-04-30T17:02:46.300000",
          "2021-04-30T18:01:13.721000",
          "2021-04-30T19:02:11.208000",
          "2021-04-30T20:02:23.963000",
          "2021-04-30T21:04:45.093000",
          "2021-04-30T22:02:59.553000",
          "2021-04-30T23:04:15.506000",
          "2021-05-01T00:04:46.173000",
          "2021-05-01T01:06:13.563000",
          "2021-05-01T02:03:58.487000",
          "2021-05-01T03:03:48.947000",
          "2021-05-01T04:02:45.295000",
          "2021-05-01T05:01:08.397000",
          "2021-05-01T06:05:24.129000",
          "2021-05-01T07:03:29.763000",
          "2021-05-01T08:02:18.763000",
          "2021-05-01T09:03:01.316000",
          "2021-05-01T10:01:48.779000",
          "2021-05-01T11:03:22.273000",
          "2021-05-01T12:02:12.982000",
          "2021-05-01T13:11:56.639000",
          "2021-05-01T14:14:01.036000",
          "2021-05-01T15:01:10.060000",
          "2021-05-01T16:02:35.232000",
          "2021-05-01T17:01:14.613000",
          "2021-05-01T18:02:20.211000",
          "2021-05-01T19:03:38.506000",
          "2021-05-01T20:02:30.001000",
          "2021-05-01T21:02:57.105000",
          "2021-05-01T22:04:38.345000",
          "2021-05-01T23:01:55.930000",
          "2021-05-02T00:04:56.601000",
          "2021-05-02T01:04:59.532000",
          "2021-05-02T02:03:12.275000",
          "2021-05-02T03:02:36.480000",
          "2021-05-02T04:03:31.160000",
          "2021-05-02T05:04:31.048000",
          "2021-05-02T06:03:47.683000",
          "2021-05-02T07:02:26.038000",
          "2021-05-02T08:02:31.724000",
          "2021-05-02T09:01:43.663000",
          "2021-05-02T10:02:37.824000",
          "2021-05-02T11:03:50.013000",
          "2021-05-02T12:05:07.351000",
          "2021-05-02T13:09:06.179000",
          "2021-05-02T14:16:34.665000",
          "2021-05-02T15:00:35.951000",
          "2021-05-02T16:01:37.611000",
          "2021-05-02T17:01:22.600000",
          "2021-05-02T18:02:18.058000",
          "2021-05-02T19:02:42.780000",
          "2021-05-02T20:04:49.254000",
          "2021-05-02T21:04:01.121000",
          "2021-05-02T22:01:38.255000",
          "2021-05-02T23:04:24.825000",
          "2021-05-03T00:00:41.813000",
          "2021-05-03T01:07:23.983000",
          "2021-05-03T02:04:21.684000",
          "2021-05-03T03:03:41.946000",
          "2021-05-03T04:02:55.911000",
          "2021-05-03T05:02:52.637000",
          "2021-05-03T06:01:04.186000",
          "2021-05-03T07:05:01.093000",
          "2021-05-03T08:05:32.779000",
          "2021-05-03T09:04:35.592000",
          "2021-05-03T10:04:15.750000",
          "2021-05-03T11:10:22.370000",
          "2021-05-03T12:03:20.694000",
          "2021-05-03T13:07:40.306000",
          "2021-05-03T14:03:26.941000",
          "2021-05-03T15:03:14.505000",
          "2021-05-03T16:04:40.082000",
          "2021-05-03T17:04:50.891000",
          "2021-05-03T18:04:13.813000",
          "2021-05-03T19:04:44.092000",
          "2021-05-03T20:02:05.795000",
          "2021-05-03T21:03:59.657000",
          "2021-05-03T22:02:12.390000",
          "2021-05-03T23:00:27.589000",
          "2021-05-04T00:06:49.376000",
          "2021-05-04T01:04:40.655000",
          "2021-05-04T02:02:56.375000",
          "2021-05-04T03:02:46.507000",
          "2021-05-04T04:04:32.298000",
          "2021-05-04T05:04:22.262000",
          "2021-05-04T06:05:02.843000",
          "2021-05-04T07:04:34.629000",
          "2021-05-04T08:04:59.332000",
          "2021-05-04T09:08:25.691000",
          "2021-05-04T10:02:29.302000",
          "2021-05-04T11:03:50.565000",
          "2021-05-04T12:00:57.401000",
          "2021-05-04T13:01:31.586000",
          "2021-05-04T14:07:06.240000",
          "2021-05-04T15:27:37.553000",
          "2021-05-04T16:01:51.303000",
          "2021-05-04T17:04:11.346000",
          "2021-05-04T18:00:36.261000",
          "2021-05-04T19:05:17.828000",
          "2021-05-04T20:01:35.178000",
          "2021-05-04T21:00:38.168000",
          "2021-05-04T22:02:51.368000",
          "2021-05-04T23:00:42.225000",
          "2021-05-05T00:03:28.233000",
          "2021-05-05T01:04:54.001000",
          "2021-05-05T02:28:40.146000",
          "2021-05-05T03:00:54.837000",
          "2021-05-05T04:02:41.205000",
          "2021-05-05T05:05:38.648000",
          "2021-05-05T06:02:26.418000",
          "2021-05-05T07:05:47.231000",
          "2021-05-05T08:03:38.491000",
          "2021-05-05T09:03:22.835000",
          "2021-05-05T10:03:56.458000",
          "2021-05-05T11:03:39.283000",
          "2021-05-05T12:06:02.923000",
          "2021-05-05T13:02:16.609000",
          "2021-05-05T14:05:50.300000",
          "2021-05-05T15:03:57.713000",
          "2021-05-05T16:04:46.572000",
          "2021-05-05T17:02:08.874000",
          "2021-05-05T18:03:14.727000",
          "2021-05-05T19:04:20.301000",
          "2021-05-05T20:13:50.505000",
          "2021-05-05T21:01:12.539000",
          "2021-05-05T22:00:51.815000",
          "2021-05-05T23:02:04.922000",
          "2021-05-06T00:02:58.716000",
          "2021-05-06T01:05:34.916000",
          "2021-05-06T02:01:57.694000",
          "2021-05-06T03:02:54.826000",
          "2021-05-06T04:05:36.743000",
          "2021-05-06T05:02:56.272000",
          "2021-05-06T06:03:20.989000",
          "2021-05-06T07:05:47.302000",
          "2021-05-06T08:02:45.127000",
          "2021-05-06T09:02:09.669000",
          "2021-05-06T10:00:47.574000",
          "2021-05-06T11:05:04.298000",
          "2021-05-06T12:05:25.628000",
          "2021-05-06T13:02:29.413000",
          "2021-05-06T14:01:30.336000",
          "2021-05-06T15:00:40.996000",
          "2021-05-06T16:01:37.885000",
          "2021-05-06T17:02:59.898000",
          "2021-05-06T18:04:15.129000",
          "2021-05-06T19:06:41.049000",
          "2021-05-06T20:00:57.346000",
          "2021-05-06T21:02:17.754000",
          "2021-05-06T22:07:04.963000",
          "2021-05-06T23:04:50.199000",
          "2021-05-07T00:03:14.398000",
          "2021-05-07T01:00:47.280000",
          "2021-05-07T02:03:23.716000",
          "2021-05-07T03:01:39.781000",
          "2021-05-07T04:04:22.856000",
          "2021-05-07T05:05:14.498000",
          "2021-05-07T06:05:58.592000",
          "2021-05-07T07:03:13.912000",
          "2021-05-07T08:02:18.428000",
          "2021-05-07T09:00:49.245000",
          "2021-05-07T10:04:25.587000",
          "2021-05-07T11:01:30.635000",
          "2021-05-07T12:04:04.921000",
          "2021-05-07T13:02:29.348000",
          "2021-05-07T14:02:31.396000",
          "2021-05-07T15:02:12.450000",
          "2021-05-07T16:05:39.906000",
          "2021-05-07T17:04:21.650000",
          "2021-05-07T18:00:20.954000",
          "2021-05-07T19:02:22.716000",
          "2021-05-07T20:02:34.116000",
          "2021-05-07T21:01:33.148000",
          "2021-05-07T22:03:55.458000",
          "2021-05-07T23:04:52.672000",
          "2021-05-08T00:01:30.624000",
          "2021-05-08T01:02:30.563000",
          "2021-05-08T02:04:11.263000",
          "2021-05-08T03:01:49.231000",
          "2021-05-08T04:04:17.403000",
          "2021-05-08T05:03:36.644000",
          "2021-05-08T06:00:44.302000",
          "2021-05-08T07:00:21.147000",
          "2021-05-08T08:02:11.442000",
          "2021-05-08T09:02:17.821000",
          "2021-05-08T10:03:06.895000",
          "2021-05-08T11:04:03.242000",
          "2021-05-08T12:05:38.697000",
          "2021-05-08T13:38:42.011000",
          "2021-05-08T14:01:03.942000",
          "2021-05-08T15:00:14.013000",
          "2021-05-08T16:02:21.773000",
          "2021-05-08T17:02:32.156000",
          "2021-05-08T18:01:39.934000",
          "2021-05-08T19:01:39.228000",
          "2021-05-08T20:02:12.655000",
          "2021-05-08T21:00:31.969000",
          "2021-05-08T22:02:58.617000",
          "2021-05-08T23:03:28.094000",
          "2021-05-09T00:03:25.393000",
          "2021-05-09T01:05:59.376000",
          "2021-05-09T02:01:16.486000",
          "2021-05-09T03:01:59.585000",
          "2021-05-09T04:02:11.705000",
          "2021-05-09T05:02:46.066000",
          "2021-05-09T06:02:33.122000",
          "2021-05-09T07:02:03.872000",
          "2021-05-09T08:03:01.049000",
          "2021-05-09T09:01:34.560000",
          "2021-05-09T10:02:50.755000",
          "2021-05-09T11:02:05.273000",
          "2021-05-09T12:03:15.804000",
          "2021-05-09T13:10:55.520000",
          "2021-05-09T14:01:25.550000",
          "2021-05-09T15:03:05.434000",
          "2021-05-09T16:02:59.452000",
          "2021-05-09T17:02:55.449000",
          "2021-05-09T18:01:04.054000",
          "2021-05-09T19:00:55.388000",
          "2021-05-09T20:02:15.527000",
          "2021-05-09T21:02:46.710000",
          "2021-05-09T22:02:38.083000",
          "2021-05-09T23:03:04.111000",
          "2021-05-10T00:04:21.429000",
          "2021-05-10T01:06:46.025000",
          "2021-05-10T02:00:53.480000",
          "2021-05-10T03:02:36.653000",
          "2021-05-10T04:02:23.112000",
          "2021-05-10T05:01:53.846000",
          "2021-05-10T06:02:10.060000",
          "2021-05-10T07:02:22.315000",
          "2021-05-10T08:03:40.011000",
          "2021-05-10T09:01:29.677000",
          "2021-05-10T10:01:03.870000",
          "2021-05-10T11:02:50.231000",
          "2021-05-10T12:02:48.825000",
          "2021-05-10T13:15:45.916000",
          "2021-05-10T14:01:38.433000",
          "2021-05-10T15:01:53.971000",
          "2021-05-10T16:01:20.850000",
          "2021-05-10T17:02:13.832000",
          "2021-05-10T18:02:33.905000",
          "2021-05-10T19:02:36.422000",
          "2021-05-10T20:02:44.675000",
          "2021-05-10T21:03:01.083000",
          "2021-05-10T22:01:36.840000",
          "2021-05-10T23:02:48.554000",
          "2021-05-11T00:02:02.924000",
          "2021-05-11T01:10:06.198000",
          "2021-05-11T02:01:25.443000",
          "2021-05-11T03:03:45.719000",
          "2021-05-11T04:02:09.314000",
          "2021-05-11T05:01:55.288000",
          "2021-05-11T06:02:28.860000",
          "2021-05-11T07:02:05.154000",
          "2021-05-11T08:02:51.428000",
          "2021-05-11T09:03:27.122000",
          "2021-05-11T10:02:38.465000",
          "2021-05-11T11:01:12.022000",
          "2021-05-11T12:03:11.102000",
          "2021-05-11T13:33:59.652000",
          "2021-05-11T14:01:11.142000",
          "2021-05-11T15:02:27.484000",
          "2021-05-11T16:02:29.706000",
          "2021-05-11T17:03:02.550000",
          "2021-05-11T18:01:06.701000",
          "2021-05-11T19:03:27.054000",
          "2021-05-11T20:03:57.324000",
          "2021-05-11T21:01:28.577000",
          "2021-05-11T22:02:09.314000",
          "2021-05-11T23:03:29.158000",
          "2021-05-12T00:02:11.889000",
          "2021-05-12T01:10:23.416000",
          "2021-05-12T02:01:30.750000",
          "2021-05-12T03:02:28.972000",
          "2021-05-12T04:02:19.946000",
          "2021-05-12T05:02:04.913000",
          "2021-05-12T06:02:59.221000",
          "2021-05-12T07:03:04.791000",
          "2021-05-12T08:01:00.119000",
          "2021-05-12T09:00:41.802000",
          "2021-05-12T10:00:28.813000",
          "2021-05-12T11:03:29.858000",
          "2021-05-12T12:03:02.538000",
          "2021-05-12T13:21:05.668000",
          "2021-05-12T14:01:29.158000",
          "2021-05-12T15:01:53.227000",
          "2021-05-12T16:01:32.892000",
          "2021-05-12T17:03:17.313000",
          "2021-05-12T18:02:56.076000",
          "2021-05-12T19:00:16.721000",
          "2021-05-12T20:02:27.518000",
          "2021-05-12T21:01:09.937000",
          "2021-05-12T22:03:07.769000",
          "2021-05-12T23:03:51.304000",
          "2021-05-13T00:03:22.195000",
          "2021-05-13T01:07:43.787000",
          "2021-05-13T02:02:41.400000",
          "2021-05-13T03:00:44.810000",
          "2021-05-13T04:06:27.225000",
          "2021-05-13T05:02:54.604000",
          "2021-05-13T06:01:48.189000",
          "2021-05-13T07:02:42.877000",
          "2021-05-13T08:02:17.635000",
          "2021-05-13T09:01:31.165000",
          "2021-05-13T10:01:13.786000",
          "2021-05-13T11:03:29.636000",
          "2021-05-13T12:01:41.608000",
          "2021-05-13T13:11:30.105000",
          "2021-05-13T14:01:55.969000",
          "2021-05-13T15:01:01.614000",
          "2021-05-13T16:02:12.673000",
          "2021-05-13T17:01:26.580000",
          "2021-05-13T18:03:48.578000",
          "2021-05-13T19:01:30.765000",
          "2021-05-13T20:03:10.080000",
          "2021-05-13T21:03:36.296000",
          "2021-05-13T22:02:29.171000",
          "2021-05-13T23:02:43.318000",
          "2021-05-14T00:02:33.824000",
          "2021-05-14T01:07:01.866000",
          "2021-05-14T02:01:00.668000",
          "2021-05-14T03:02:32.796000",
          "2021-05-14T04:01:51.873000",
          "2021-05-14T05:01:54.661000",
          "2021-05-14T06:03:18.145000",
          "2021-05-14T07:02:48.426000",
          "2021-05-14T08:01:06.888000",
          "2021-05-14T09:01:46.744000",
          "2021-05-14T10:00:21.011000",
          "2021-05-14T11:01:47.148000",
          "2021-05-14T12:03:22.970000",
          "2021-05-14T13:12:55.636000",
          "2021-05-14T14:03:04.213000",
          "2021-05-14T15:01:18.590000",
          "2021-05-14T16:02:09.882000",
          "2021-05-14T17:01:30.364000",
          "2021-05-14T18:02:43.474000",
          "2021-05-14T19:00:57.686000",
          "2021-05-14T20:02:57.724000",
          "2021-05-14T21:01:44.451000",
          "2021-05-14T22:01:01.848000",
          "2021-05-14T23:03:11.361000",
          "2021-05-15T00:00:42.094000",
          "2021-05-15T01:06:39.670000",
          "2021-05-15T02:01:26.911000",
          "2021-05-15T03:00:54.309000",
          "2021-05-15T04:02:28.342000",
          "2021-05-15T05:01:15.276000",
          "2021-05-15T06:09:46.831000",
          "2021-05-15T07:02:53.112000",
          "2021-05-15T08:02:34.327000",
          "2021-05-15T09:02:35.222000",
          "2021-05-15T10:01:15.110000",
          "2021-05-15T11:01:58.376000",
          "2021-05-15T12:01:58.072000",
          "2021-05-15T13:11:29.695000",
          "2021-05-15T14:02:14.184000",
          "2021-05-15T15:02:51.086000",
          "2021-05-15T16:03:20.214000",
          "2021-05-15T17:01:47.348000",
          "2021-05-15T18:02:57.350000",
          "2021-05-15T19:03:09.558000",
          "2021-05-15T20:02:31.379000",
          "2021-05-15T21:02:55.824000",
          "2021-05-15T22:02:07.690000",
          "2021-05-15T23:01:11.380000",
          "2021-05-16T00:01:43.540000",
          "2021-05-16T01:06:49.478000",
          "2021-05-16T02:01:58.085000",
          "2021-05-16T03:02:59.634000",
          "2021-05-16T04:02:24.860000",
          "2021-05-16T05:00:51.344000",
          "2021-05-16T06:02:03.856000",
          "2021-05-16T07:00:16.880000",
          "2021-05-16T08:02:39.898000",
          "2021-05-16T09:02:16.753000",
          "2021-05-16T10:03:07.528000",
          "2021-05-16T11:02:51.396000",
          "2021-05-16T12:01:54.901000",
          "2021-05-16T13:12:31.078000",
          "2021-05-16T14:01:38.199000",
          "2021-05-16T15:02:06.320000",
          "2021-05-16T16:02:40.163000",
          "2021-05-16T17:01:52.733000",
          "2021-05-16T18:00:57.420000",
          "2021-05-16T19:01:58.477000",
          "2021-05-16T20:01:58.716000",
          "2021-05-16T21:01:59.957000",
          "2021-05-16T22:01:00.119000",
          "2021-05-16T23:04:41.669000",
          "2021-05-17T00:00:33.131000",
          "2021-05-17T01:07:18.258000",
          "2021-05-17T02:01:00.019000",
          "2021-05-17T03:02:34.625000",
          "2021-05-17T04:02:41.240000",
          "2021-05-17T05:02:46.037000",
          "2021-05-17T06:02:15.300000",
          "2021-05-17T07:03:49.641000",
          "2021-05-17T08:29:19.669000",
          "2021-05-17T09:03:19.991000",
          "2021-05-17T10:01:26.514000",
          "2021-05-17T11:01:06.714000",
          "2021-05-17T12:04:10.304000",
          "2021-05-17T13:43:55.266000",
          "2021-05-17T14:00:47.632000",
          "2021-05-17T15:03:05.577000",
          "2021-05-17T16:00:53.267000",
          "2021-05-17T17:01:25.886000",
          "2021-05-17T18:03:32.353000",
          "2021-05-17T19:01:35.740000",
          "2021-05-17T20:02:50.034000",
          "2021-05-17T21:02:16.480000",
          "2021-05-17T22:02:22.854000",
          "2021-05-17T23:02:31.041000",
          "2021-05-18T00:01:33.484000",
          "2021-05-18T01:00:49.898000",
          "2021-05-18T02:01:40.944000",
          "2021-05-18T03:01:53.723000",
          "2021-05-18T04:02:43.958000",
          "2021-05-18T05:01:46.449000",
          "2021-05-18T06:02:06.623000",
          "2021-05-18T07:01:24.685000",
          "2021-05-18T08:01:30.630000",
          "2021-05-18T09:01:00.147000",
          "2021-05-18T10:01:02.637000",
          "2021-05-18T11:01:44.703000",
          "2021-05-18T12:04:06.442000",
          "2021-05-18T13:01:14.894000",
          "2021-05-18T14:11:44.245000",
          "2021-05-18T15:04:08.880000",
          "2021-05-18T16:01:46.214000",
          "2021-05-18T17:02:47.670000",
          "2021-05-18T18:02:55.353000",
          "2021-05-18T19:02:28.517000",
          "2021-05-18T20:02:24.306000",
          "2021-05-18T21:03:27.346000",
          "2021-05-18T22:02:14.642000",
          "2021-05-18T23:02:46.724000",
          "2021-05-19T00:01:37.749000",
          "2021-05-19T01:03:22.560000",
          "2021-05-19T02:02:42.496000",
          "2021-05-19T03:01:51.105000",
          "2021-05-19T04:03:09.537000",
          "2021-05-19T05:02:47.423000",
          "2021-05-19T06:04:54.088000",
          "2021-05-19T07:02:11.260000",
          "2021-05-19T08:03:40.095000",
          "2021-05-19T09:01:29.161000",
          "2021-05-19T10:02:17.481000",
          "2021-05-19T11:02:26.913000",
          "2021-05-19T12:03:07.961000",
          "2021-05-19T13:03:50.507000",
          "2021-05-19T14:04:06.874000",
          "2021-05-19T15:02:30.303000",
          "2021-05-19T16:05:23.371000",
          "2021-05-19T17:42:31.055000",
          "2021-05-19T18:38:24.867000",
          "2021-05-19T19:34:35.199000",
          "2021-05-19T20:31:18.504000",
          "2021-05-19T21:26:29.622000",
          "2021-05-19T22:40:23.689000",
          "2021-05-19T23:06:35.771000",
          "2021-05-20T00:27:34.837000",
          "2021-05-20T01:43:11.464000",
          "2021-05-20T02:39:17.793000",
          "2021-05-20T03:35:09.928000",
          "2021-05-20T04:23:58.575000",
          "2021-05-20T05:39:59.238000",
          "2021-05-20T06:03:30.330000",
          "2021-05-20T07:37:37.103000",
          "2021-05-20T08:39:42.460000",
          "2021-05-20T09:30:48.872000",
          "2021-05-20T10:26:10.601000",
          "2021-05-20T11:16:32.249000",
          "2021-05-20T12:33:32.136000",
          "2021-05-20T13:13:36.346000",
          "2021-05-20T14:28:32.254000",
          "2021-05-20T15:33:54.455000",
          "2021-05-20T16:05:56.352000",
          "2021-05-20T17:06:37.248000",
          "2021-05-20T18:02:31.491000",
          "2021-05-20T19:28:17.610000",
          "2021-05-20T20:29:44.237000",
          "2021-05-20T21:25:58.331000",
          "2021-05-20T22:33:30.126000",
          "2021-05-20T23:04:30.462000",
          "2021-05-21T00:33:42.708000",
          "2021-05-21T01:06:23.966000",
          "2021-05-21T02:34:39.578000",
          "2021-05-21T03:22:18.006000",
          "2021-05-21T04:10:26.159000",
          "2021-05-21T05:07:36.234000",
          "2021-05-21T06:25:55.899000",
          "2021-05-21T07:17:26.709000",
          "2021-05-21T08:26:09.010000",
          "2021-05-21T09:04:36.369000",
          "2021-05-21T10:22:14.182000",
          "2021-05-21T11:27:20.521000",
          "2021-05-21T12:08:40.070000",
          "2021-05-21T13:22:19.061000",
          "2021-05-21T14:19:07.412000",
          "2021-05-21T15:21:26.748000",
          "2021-05-21T16:04:31.398000",
          "2021-05-21T17:17:25.295000",
          "2021-05-21T18:26:14.511000",
          "2021-05-21T19:29:40.653000",
          "2021-05-21T20:28:58.447000",
          "2021-05-21T21:27:40.874000",
          "2021-05-21T22:27:28.630000",
          "2021-05-21T23:22:26.365000",
          "2021-05-22T00:28:12.371000",
          "2021-05-22T01:04:10.104000",
          "2021-05-22T02:07:54.972000",
          "2021-05-22T03:19:10.873000",
          "2021-05-22T04:18:23.380000",
          "2021-05-22T05:06:26.704000",
          "2021-05-22T06:28:12.666000",
          "2021-05-22T07:21:09.321000",
          "2021-05-22T08:28:01.690000",
          "2021-05-22T09:21:13.157000",
          "2021-05-22T10:13:44.502000",
          "2021-05-22T11:13:38.288000",
          "2021-05-22T12:04:47.211000",
          "2021-05-22T13:25:26.096000",
          "2021-05-22T14:10:23.578000",
          "2021-05-22T15:27:09.781000",
          "2021-05-22T16:20:41.179000",
          "2021-05-22T17:07:32.773000",
          "2021-05-22T18:26:59.967000",
          "2021-05-22T19:15:49.736000",
          "2021-05-22T20:27:03.092000",
          "2021-05-22T21:13:50.866000",
          "2021-05-22T22:24:13.656000",
          "2021-05-22T23:26:33.525000",
          "2021-05-23T00:14:07.195000",
          "2021-05-23T01:08:19.141000",
          "2021-05-23T02:07:45.678000",
          "2021-05-23T03:04:53.130000",
          "2021-05-23T04:03:07.404000",
          "2021-05-23T05:04:14.615000",
          "2021-05-23T06:02:45.747000",
          "2021-05-23T07:11:15.416000",
          "2021-05-23T08:08:48.199000",
          "2021-05-23T09:09:39.542000",
          "2021-05-23T10:05:33.366000",
          "2021-05-23T11:03:05.194000",
          "2021-05-23T12:07:02.601000",
          "2021-05-23T13:06:03.343000",
          "2021-05-23T14:06:44.303000",
          "2021-05-23T15:11:12.007000",
          "2021-05-23T16:07:40.588000",
          "2021-05-23T17:05:46.317000",
          "2021-05-23T18:05:10.210000",
          "2021-05-23T19:10:57.446000",
          "2021-05-23T20:09:04.624000",
          "2021-05-23T21:09:29.686000",
          "2021-05-23T22:08:43.797000",
          "2021-05-23T23:06:05.069000",
          "2021-05-24T00:08:51.846000",
          "2021-05-24T01:06:31.012000",
          "2021-05-24T02:08:04.529000",
          "2021-05-24T03:14:14.690000",
          "2021-05-24T04:06:33.943000",
          "2021-05-24T05:04:14.384000",
          "2021-05-24T06:05:41.055000",
          "2021-05-24T06:28:52"
         ]
        }
       ],
       "layout": {
        "template": {
         "data": {
          "bar": [
           {
            "error_x": {
             "color": "#2a3f5f"
            },
            "error_y": {
             "color": "#2a3f5f"
            },
            "marker": {
             "line": {
              "color": "#E5ECF6",
              "width": 0.5
             }
            },
            "type": "bar"
           }
          ],
          "barpolar": [
           {
            "marker": {
             "line": {
              "color": "#E5ECF6",
              "width": 0.5
             }
            },
            "type": "barpolar"
           }
          ],
          "carpet": [
           {
            "aaxis": {
             "endlinecolor": "#2a3f5f",
             "gridcolor": "white",
             "linecolor": "white",
             "minorgridcolor": "white",
             "startlinecolor": "#2a3f5f"
            },
            "baxis": {
             "endlinecolor": "#2a3f5f",
             "gridcolor": "white",
             "linecolor": "white",
             "minorgridcolor": "white",
             "startlinecolor": "#2a3f5f"
            },
            "type": "carpet"
           }
          ],
          "choropleth": [
           {
            "colorbar": {
             "outlinewidth": 0,
             "ticks": ""
            },
            "type": "choropleth"
           }
          ],
          "contour": [
           {
            "colorbar": {
             "outlinewidth": 0,
             "ticks": ""
            },
            "colorscale": [
             [
              0,
              "#0d0887"
             ],
             [
              0.1111111111111111,
              "#46039f"
             ],
             [
              0.2222222222222222,
              "#7201a8"
             ],
             [
              0.3333333333333333,
              "#9c179e"
             ],
             [
              0.4444444444444444,
              "#bd3786"
             ],
             [
              0.5555555555555556,
              "#d8576b"
             ],
             [
              0.6666666666666666,
              "#ed7953"
             ],
             [
              0.7777777777777778,
              "#fb9f3a"
             ],
             [
              0.8888888888888888,
              "#fdca26"
             ],
             [
              1,
              "#f0f921"
             ]
            ],
            "type": "contour"
           }
          ],
          "contourcarpet": [
           {
            "colorbar": {
             "outlinewidth": 0,
             "ticks": ""
            },
            "type": "contourcarpet"
           }
          ],
          "heatmap": [
           {
            "colorbar": {
             "outlinewidth": 0,
             "ticks": ""
            },
            "colorscale": [
             [
              0,
              "#0d0887"
             ],
             [
              0.1111111111111111,
              "#46039f"
             ],
             [
              0.2222222222222222,
              "#7201a8"
             ],
             [
              0.3333333333333333,
              "#9c179e"
             ],
             [
              0.4444444444444444,
              "#bd3786"
             ],
             [
              0.5555555555555556,
              "#d8576b"
             ],
             [
              0.6666666666666666,
              "#ed7953"
             ],
             [
              0.7777777777777778,
              "#fb9f3a"
             ],
             [
              0.8888888888888888,
              "#fdca26"
             ],
             [
              1,
              "#f0f921"
             ]
            ],
            "type": "heatmap"
           }
          ],
          "heatmapgl": [
           {
            "colorbar": {
             "outlinewidth": 0,
             "ticks": ""
            },
            "colorscale": [
             [
              0,
              "#0d0887"
             ],
             [
              0.1111111111111111,
              "#46039f"
             ],
             [
              0.2222222222222222,
              "#7201a8"
             ],
             [
              0.3333333333333333,
              "#9c179e"
             ],
             [
              0.4444444444444444,
              "#bd3786"
             ],
             [
              0.5555555555555556,
              "#d8576b"
             ],
             [
              0.6666666666666666,
              "#ed7953"
             ],
             [
              0.7777777777777778,
              "#fb9f3a"
             ],
             [
              0.8888888888888888,
              "#fdca26"
             ],
             [
              1,
              "#f0f921"
             ]
            ],
            "type": "heatmapgl"
           }
          ],
          "histogram": [
           {
            "marker": {
             "colorbar": {
              "outlinewidth": 0,
              "ticks": ""
             }
            },
            "type": "histogram"
           }
          ],
          "histogram2d": [
           {
            "colorbar": {
             "outlinewidth": 0,
             "ticks": ""
            },
            "colorscale": [
             [
              0,
              "#0d0887"
             ],
             [
              0.1111111111111111,
              "#46039f"
             ],
             [
              0.2222222222222222,
              "#7201a8"
             ],
             [
              0.3333333333333333,
              "#9c179e"
             ],
             [
              0.4444444444444444,
              "#bd3786"
             ],
             [
              0.5555555555555556,
              "#d8576b"
             ],
             [
              0.6666666666666666,
              "#ed7953"
             ],
             [
              0.7777777777777778,
              "#fb9f3a"
             ],
             [
              0.8888888888888888,
              "#fdca26"
             ],
             [
              1,
              "#f0f921"
             ]
            ],
            "type": "histogram2d"
           }
          ],
          "histogram2dcontour": [
           {
            "colorbar": {
             "outlinewidth": 0,
             "ticks": ""
            },
            "colorscale": [
             [
              0,
              "#0d0887"
             ],
             [
              0.1111111111111111,
              "#46039f"
             ],
             [
              0.2222222222222222,
              "#7201a8"
             ],
             [
              0.3333333333333333,
              "#9c179e"
             ],
             [
              0.4444444444444444,
              "#bd3786"
             ],
             [
              0.5555555555555556,
              "#d8576b"
             ],
             [
              0.6666666666666666,
              "#ed7953"
             ],
             [
              0.7777777777777778,
              "#fb9f3a"
             ],
             [
              0.8888888888888888,
              "#fdca26"
             ],
             [
              1,
              "#f0f921"
             ]
            ],
            "type": "histogram2dcontour"
           }
          ],
          "mesh3d": [
           {
            "colorbar": {
             "outlinewidth": 0,
             "ticks": ""
            },
            "type": "mesh3d"
           }
          ],
          "parcoords": [
           {
            "line": {
             "colorbar": {
              "outlinewidth": 0,
              "ticks": ""
             }
            },
            "type": "parcoords"
           }
          ],
          "pie": [
           {
            "automargin": true,
            "type": "pie"
           }
          ],
          "scatter": [
           {
            "marker": {
             "colorbar": {
              "outlinewidth": 0,
              "ticks": ""
             }
            },
            "type": "scatter"
           }
          ],
          "scatter3d": [
           {
            "line": {
             "colorbar": {
              "outlinewidth": 0,
              "ticks": ""
             }
            },
            "marker": {
             "colorbar": {
              "outlinewidth": 0,
              "ticks": ""
             }
            },
            "type": "scatter3d"
           }
          ],
          "scattercarpet": [
           {
            "marker": {
             "colorbar": {
              "outlinewidth": 0,
              "ticks": ""
             }
            },
            "type": "scattercarpet"
           }
          ],
          "scattergeo": [
           {
            "marker": {
             "colorbar": {
              "outlinewidth": 0,
              "ticks": ""
             }
            },
            "type": "scattergeo"
           }
          ],
          "scattergl": [
           {
            "marker": {
             "colorbar": {
              "outlinewidth": 0,
              "ticks": ""
             }
            },
            "type": "scattergl"
           }
          ],
          "scattermapbox": [
           {
            "marker": {
             "colorbar": {
              "outlinewidth": 0,
              "ticks": ""
             }
            },
            "type": "scattermapbox"
           }
          ],
          "scatterpolar": [
           {
            "marker": {
             "colorbar": {
              "outlinewidth": 0,
              "ticks": ""
             }
            },
            "type": "scatterpolar"
           }
          ],
          "scatterpolargl": [
           {
            "marker": {
             "colorbar": {
              "outlinewidth": 0,
              "ticks": ""
             }
            },
            "type": "scatterpolargl"
           }
          ],
          "scatterternary": [
           {
            "marker": {
             "colorbar": {
              "outlinewidth": 0,
              "ticks": ""
             }
            },
            "type": "scatterternary"
           }
          ],
          "surface": [
           {
            "colorbar": {
             "outlinewidth": 0,
             "ticks": ""
            },
            "colorscale": [
             [
              0,
              "#0d0887"
             ],
             [
              0.1111111111111111,
              "#46039f"
             ],
             [
              0.2222222222222222,
              "#7201a8"
             ],
             [
              0.3333333333333333,
              "#9c179e"
             ],
             [
              0.4444444444444444,
              "#bd3786"
             ],
             [
              0.5555555555555556,
              "#d8576b"
             ],
             [
              0.6666666666666666,
              "#ed7953"
             ],
             [
              0.7777777777777778,
              "#fb9f3a"
             ],
             [
              0.8888888888888888,
              "#fdca26"
             ],
             [
              1,
              "#f0f921"
             ]
            ],
            "type": "surface"
           }
          ],
          "table": [
           {
            "cells": {
             "fill": {
              "color": "#EBF0F8"
             },
             "line": {
              "color": "white"
             }
            },
            "header": {
             "fill": {
              "color": "#C8D4E3"
             },
             "line": {
              "color": "white"
             }
            },
            "type": "table"
           }
          ]
         },
         "layout": {
          "annotationdefaults": {
           "arrowcolor": "#2a3f5f",
           "arrowhead": 0,
           "arrowwidth": 1
          },
          "autotypenumbers": "strict",
          "coloraxis": {
           "colorbar": {
            "outlinewidth": 0,
            "ticks": ""
           }
          },
          "colorscale": {
           "diverging": [
            [
             0,
             "#8e0152"
            ],
            [
             0.1,
             "#c51b7d"
            ],
            [
             0.2,
             "#de77ae"
            ],
            [
             0.3,
             "#f1b6da"
            ],
            [
             0.4,
             "#fde0ef"
            ],
            [
             0.5,
             "#f7f7f7"
            ],
            [
             0.6,
             "#e6f5d0"
            ],
            [
             0.7,
             "#b8e186"
            ],
            [
             0.8,
             "#7fbc41"
            ],
            [
             0.9,
             "#4d9221"
            ],
            [
             1,
             "#276419"
            ]
           ],
           "sequential": [
            [
             0,
             "#0d0887"
            ],
            [
             0.1111111111111111,
             "#46039f"
            ],
            [
             0.2222222222222222,
             "#7201a8"
            ],
            [
             0.3333333333333333,
             "#9c179e"
            ],
            [
             0.4444444444444444,
             "#bd3786"
            ],
            [
             0.5555555555555556,
             "#d8576b"
            ],
            [
             0.6666666666666666,
             "#ed7953"
            ],
            [
             0.7777777777777778,
             "#fb9f3a"
            ],
            [
             0.8888888888888888,
             "#fdca26"
            ],
            [
             1,
             "#f0f921"
            ]
           ],
           "sequentialminus": [
            [
             0,
             "#0d0887"
            ],
            [
             0.1111111111111111,
             "#46039f"
            ],
            [
             0.2222222222222222,
             "#7201a8"
            ],
            [
             0.3333333333333333,
             "#9c179e"
            ],
            [
             0.4444444444444444,
             "#bd3786"
            ],
            [
             0.5555555555555556,
             "#d8576b"
            ],
            [
             0.6666666666666666,
             "#ed7953"
            ],
            [
             0.7777777777777778,
             "#fb9f3a"
            ],
            [
             0.8888888888888888,
             "#fdca26"
            ],
            [
             1,
             "#f0f921"
            ]
           ]
          },
          "colorway": [
           "#636efa",
           "#EF553B",
           "#00cc96",
           "#ab63fa",
           "#FFA15A",
           "#19d3f3",
           "#FF6692",
           "#B6E880",
           "#FF97FF",
           "#FECB52"
          ],
          "font": {
           "color": "#2a3f5f"
          },
          "geo": {
           "bgcolor": "white",
           "lakecolor": "white",
           "landcolor": "#E5ECF6",
           "showlakes": true,
           "showland": true,
           "subunitcolor": "white"
          },
          "hoverlabel": {
           "align": "left"
          },
          "hovermode": "closest",
          "mapbox": {
           "style": "light"
          },
          "paper_bgcolor": "white",
          "plot_bgcolor": "#E5ECF6",
          "polar": {
           "angularaxis": {
            "gridcolor": "white",
            "linecolor": "white",
            "ticks": ""
           },
           "bgcolor": "#E5ECF6",
           "radialaxis": {
            "gridcolor": "white",
            "linecolor": "white",
            "ticks": ""
           }
          },
          "scene": {
           "xaxis": {
            "backgroundcolor": "#E5ECF6",
            "gridcolor": "white",
            "gridwidth": 2,
            "linecolor": "white",
            "showbackground": true,
            "ticks": "",
            "zerolinecolor": "white"
           },
           "yaxis": {
            "backgroundcolor": "#E5ECF6",
            "gridcolor": "white",
            "gridwidth": 2,
            "linecolor": "white",
            "showbackground": true,
            "ticks": "",
            "zerolinecolor": "white"
           },
           "zaxis": {
            "backgroundcolor": "#E5ECF6",
            "gridcolor": "white",
            "gridwidth": 2,
            "linecolor": "white",
            "showbackground": true,
            "ticks": "",
            "zerolinecolor": "white"
           }
          },
          "shapedefaults": {
           "line": {
            "color": "#2a3f5f"
           }
          },
          "ternary": {
           "aaxis": {
            "gridcolor": "white",
            "linecolor": "white",
            "ticks": ""
           },
           "baxis": {
            "gridcolor": "white",
            "linecolor": "white",
            "ticks": ""
           },
           "bgcolor": "#E5ECF6",
           "caxis": {
            "gridcolor": "white",
            "linecolor": "white",
            "ticks": ""
           }
          },
          "title": {
           "x": 0.05
          },
          "xaxis": {
           "automargin": true,
           "gridcolor": "white",
           "linecolor": "white",
           "ticks": "",
           "title": {
            "standoff": 15
           },
           "zerolinecolor": "white",
           "zerolinewidth": 2
          },
          "yaxis": {
           "automargin": true,
           "gridcolor": "white",
           "linecolor": "white",
           "ticks": "",
           "title": {
            "standoff": 15
           },
           "zerolinecolor": "white",
           "zerolinewidth": 2
          }
         }
        },
        "xaxis": {
         "rangeslider": {
          "visible": false
         }
        }
       }
      },
      "text/html": [
       "<div>                            <div id=\"289dacfa-717a-45dc-bcb8-7b6e42974ee5\" class=\"plotly-graph-div\" style=\"height:525px; width:100%;\"></div>            <script type=\"text/javascript\">                require([\"plotly\"], function(Plotly) {                    window.PLOTLYENV=window.PLOTLYENV || {};                                    if (document.getElementById(\"289dacfa-717a-45dc-bcb8-7b6e42974ee5\")) {                    Plotly.newPlot(                        \"289dacfa-717a-45dc-bcb8-7b6e42974ee5\",                        [{\"close\": [50601.95214099316, 48826.52065650017, 53589.6752998928, 54997.291345118225, 54462.38634298567, 53395.17699522727, 57166.66441986013, 57669.860487076316, 56433.44851800957, 57336.828870254896, 54151.075423453054, 57215.27232018931, 56478.83446437289, 57128.612400378996, 58603.915501403884, 58050.12752524915, 56274.44427494624, 56430.89675789497, 52906.5349801564, 49333.97284824189, 49950.26944122073, 48159.550779483354, 45683.458099465715, 42746.0714310115, 43022.377837006185, 39154.208053364164, 41596.34807310815, 37384.01908733165, 37828.54390512896, 33995.040863381786, 35514.780878819714], \"high\": [50962.47527923396, 50510.96535053292, 54315.67773597412, 55473.0657777974, 55530.513360661644, 54810.6138506792, 57210.138362768965, 58721.7528896422, 57812.96915967891, 58833.861160841436, 57152.912830872694, 57674.240224065914, 57999.34933717332, 58139.00714757722, 59271.44174969064, 59092.64434966951, 59577.80355554711, 56824.63058972232, 57781.57445959879, 51259.47411845293, 51253.26526154562, 50615.466771836946, 49676.81873777044, 46585.06413538846, 45549.156681471184, 43091.04144756922, 41947.19671093911, 41757.137344607865, 38546.59909947474, 38360.64102852076, 35531.53082944085], \"low\": [48985.689867411566, 47409.78302911801, 48981.4413932161, 53456.0913723206, 54135.005312343856, 52881.63656182149, 53456.22811013035, 57368.69249425147, 56387.95830875742, 56600.74528738432, 53612.73560384135, 53464.37021950372, 55774.659224122544, 55847.107640361384, 57361.56904328887, 56636.68490288338, 55240.32123935162, 54951.20708027075, 52906.5349801564, 48267.77747317404, 49049.41867355618, 47740.05005733954, 44490.79522240914, 42600.14692405195, 42815.40466270814, 36573.548038076166, 37440.3029973854, 34386.60959211036, 35920.891746795896, 32458.122485384694, 34850.73178718457], \"open\": [50365.947028664596, 50133.1073963654, 48981.4413932161, 54019.26878317463, 54991.81484262107, 54810.6138506792, 53596.70402266675, 57828.511814425874, 57812.96915967891, 56600.74528738432, 57152.912830872694, 53464.37021950372, 57432.100227087576, 56507.759439869595, 57361.56904328887, 58771.881689509355, 58213.926293744385, 55901.66759456145, 56928.97235660158, 50004.76218313686, 49972.795398372444, 49913.26314398822, 46780.902304688214, 46585.06413538846, 43780.82559782485, 43091.04144756922, 38040.94334633126, 41161.937246335125, 37073.00455951342, 37032.67236508104, 34892.633299037465], \"type\": \"candlestick\", \"x\": [\"2021-04-24T07:03:11.088000\", \"2021-04-24T08:06:12.586000\", \"2021-04-24T09:02:41.797000\", \"2021-04-24T10:04:19.114000\", \"2021-04-24T11:03:02.925000\", \"2021-04-24T12:03:08.328000\", \"2021-04-24T13:08:33.348000\", \"2021-04-24T14:04:22.599000\", \"2021-04-24T15:02:12.511000\", \"2021-04-24T16:03:34.140000\", \"2021-04-24T17:02:47.101000\", \"2021-04-24T18:03:31.230000\", \"2021-04-24T19:03:03.323000\", \"2021-04-24T20:04:05.030000\", \"2021-04-24T21:04:20.449000\", \"2021-04-24T22:04:29.284000\", \"2021-04-24T23:02:46.767000\", \"2021-04-25T00:04:09.010000\", \"2021-04-25T01:05:06.065000\", \"2021-04-25T02:00:33.833000\", \"2021-04-25T03:00:29.533000\", \"2021-04-25T04:02:48.828000\", \"2021-04-25T05:05:23.202000\", \"2021-04-25T06:02:51.768000\", \"2021-04-25T07:03:39.572000\", \"2021-04-25T08:01:50.604000\", \"2021-04-25T09:05:37.576000\", \"2021-04-25T10:05:19.779000\", \"2021-04-25T11:03:57.597000\", \"2021-04-25T12:04:06.962000\", \"2021-04-25T13:11:15.773000\", \"2021-04-25T14:18:45.126000\", \"2021-04-25T15:02:08.550000\", \"2021-04-25T16:04:23.560000\", \"2021-04-25T17:04:19.351000\", \"2021-04-25T18:05:55.542000\", \"2021-04-25T19:05:39.676000\", \"2021-04-25T20:04:40.719000\", \"2021-04-25T21:02:46.226000\", \"2021-04-25T22:03:40.980000\", \"2021-04-25T23:02:53.137000\", \"2021-04-26T00:01:13.539000\", \"2021-04-26T01:08:40.750000\", \"2021-04-26T02:04:48.925000\", \"2021-04-26T03:05:06.174000\", \"2021-04-26T04:04:01.573000\", \"2021-04-26T05:04:18.096000\", \"2021-04-26T06:03:29.842000\", \"2021-04-26T07:03:20.347000\", \"2021-04-26T08:06:08.676000\", \"2021-04-26T09:02:24.602000\", \"2021-04-26T10:04:04.231000\", \"2021-04-26T11:04:49.622000\", \"2021-04-26T12:03:21.827000\", \"2021-04-26T13:09:19.295000\", \"2021-04-26T15:00:41.116000\", \"2021-04-26T15:37:29.812000\", \"2021-04-26T16:17:54.624000\", \"2021-04-26T17:04:24.321000\", \"2021-04-26T18:04:00.495000\", \"2021-04-26T19:05:20.030000\", \"2021-04-26T20:05:12.919000\", \"2021-04-26T21:01:09.882000\", \"2021-04-26T22:04:18.281000\", \"2021-04-26T23:05:03.784000\", \"2021-04-27T00:05:44.162000\", \"2021-04-27T01:07:24.418000\", \"2021-04-27T02:02:51.494000\", \"2021-04-27T03:03:04.917000\", \"2021-04-27T04:01:20.871000\", \"2021-04-27T05:03:35.336000\", \"2021-04-27T06:04:15.813000\", \"2021-04-27T07:02:40.808000\", \"2021-04-27T08:06:49.335000\", \"2021-04-27T09:01:14.035000\", \"2021-04-27T10:04:36.133000\", \"2021-04-27T11:04:41.386000\", \"2021-04-27T12:01:23.985000\", \"2021-04-27T13:08:20.472000\", \"2021-04-27T14:19:09.962000\", \"2021-04-27T15:18:33.738000\", \"2021-04-27T16:01:23.223000\", \"2021-04-27T17:04:15.684000\", \"2021-04-27T18:03:19.058000\", \"2021-04-27T19:03:56.144000\", \"2021-04-27T20:01:39.522000\", \"2021-04-27T21:03:10.425000\", \"2021-04-27T22:04:13.064000\", \"2021-04-27T23:02:54.508000\", \"2021-04-28T00:01:06.360000\", \"2021-04-28T01:06:18.018000\", \"2021-04-28T02:04:43.600000\", \"2021-04-28T03:04:07.091000\", \"2021-04-28T04:02:06.531000\", \"2021-04-28T05:03:30.884000\", \"2021-04-28T06:01:27.548000\", \"2021-04-28T07:05:34.439000\", \"2021-04-28T08:02:28.451000\", \"2021-04-28T09:00:04.877000\", \"2021-04-28T10:04:02.295000\", \"2021-04-28T11:04:49.829000\", \"2021-04-28T12:02:54.879000\", \"2021-04-28T13:06:46.445000\", \"2021-04-28T14:02:11.607000\", \"2021-04-28T15:01:27.528000\", \"2021-04-28T16:02:41.462000\", \"2021-04-28T17:02:15.588000\", \"2021-04-28T18:00:15.550000\", \"2021-04-28T19:03:21.053000\", \"2021-04-28T20:01:10.018000\", \"2021-04-28T21:03:28.879000\", \"2021-04-28T22:04:26.821000\", \"2021-04-28T23:04:08.136000\", \"2021-04-29T00:01:30.820000\", \"2021-04-29T01:05:28.938000\", \"2021-04-29T02:03:30.065000\", \"2021-04-29T03:03:07.089000\", \"2021-04-29T04:04:07.187000\", \"2021-04-29T05:02:02.560000\", \"2021-04-29T06:00:55.357000\", \"2021-04-29T07:03:29.563000\", \"2021-04-29T08:04:28.853000\", \"2021-04-29T09:03:28.786000\", \"2021-04-29T10:04:20.323000\", \"2021-04-29T11:01:42.620000\", \"2021-04-29T12:02:07.948000\", \"2021-04-29T13:04:57.036000\", \"2021-04-29T14:00:43.262000\", \"2021-04-29T15:04:08.013000\", \"2021-04-29T16:02:29.302000\", \"2021-04-29T17:05:32.559000\", \"2021-04-29T18:03:03.759000\", \"2021-04-29T19:01:29.788000\", \"2021-04-29T20:04:03.780000\", \"2021-04-29T21:02:21.299000\", \"2021-04-29T22:05:07.556000\", \"2021-04-29T23:02:45.156000\", \"2021-04-30T00:03:20.124000\", \"2021-04-30T01:17:27.754000\", \"2021-04-30T02:02:56.757000\", \"2021-04-30T03:05:12.659000\", \"2021-04-30T04:02:10.833000\", \"2021-04-30T05:03:13.541000\", \"2021-04-30T06:02:19.403000\", \"2021-04-30T07:01:39.665000\", \"2021-04-30T08:03:10.038000\", \"2021-04-30T09:02:30.971000\", \"2021-04-30T10:01:40.741000\", \"2021-04-30T11:01:38.256000\", \"2021-04-30T12:05:58.315000\", \"2021-04-30T13:12:47.860000\", \"2021-04-30T14:11:31.243000\", \"2021-04-30T15:06:23.928000\", \"2021-04-30T16:02:03.529000\", \"2021-04-30T17:02:46.300000\", \"2021-04-30T18:01:13.721000\", \"2021-04-30T19:02:11.208000\", \"2021-04-30T20:02:23.963000\", \"2021-04-30T21:04:45.093000\", \"2021-04-30T22:02:59.553000\", \"2021-04-30T23:04:15.506000\", \"2021-05-01T00:04:46.173000\", \"2021-05-01T01:06:13.563000\", \"2021-05-01T02:03:58.487000\", \"2021-05-01T03:03:48.947000\", \"2021-05-01T04:02:45.295000\", \"2021-05-01T05:01:08.397000\", \"2021-05-01T06:05:24.129000\", \"2021-05-01T07:03:29.763000\", \"2021-05-01T08:02:18.763000\", \"2021-05-01T09:03:01.316000\", \"2021-05-01T10:01:48.779000\", \"2021-05-01T11:03:22.273000\", \"2021-05-01T12:02:12.982000\", \"2021-05-01T13:11:56.639000\", \"2021-05-01T14:14:01.036000\", \"2021-05-01T15:01:10.060000\", \"2021-05-01T16:02:35.232000\", \"2021-05-01T17:01:14.613000\", \"2021-05-01T18:02:20.211000\", \"2021-05-01T19:03:38.506000\", \"2021-05-01T20:02:30.001000\", \"2021-05-01T21:02:57.105000\", \"2021-05-01T22:04:38.345000\", \"2021-05-01T23:01:55.930000\", \"2021-05-02T00:04:56.601000\", \"2021-05-02T01:04:59.532000\", \"2021-05-02T02:03:12.275000\", \"2021-05-02T03:02:36.480000\", \"2021-05-02T04:03:31.160000\", \"2021-05-02T05:04:31.048000\", \"2021-05-02T06:03:47.683000\", \"2021-05-02T07:02:26.038000\", \"2021-05-02T08:02:31.724000\", \"2021-05-02T09:01:43.663000\", \"2021-05-02T10:02:37.824000\", \"2021-05-02T11:03:50.013000\", \"2021-05-02T12:05:07.351000\", \"2021-05-02T13:09:06.179000\", \"2021-05-02T14:16:34.665000\", \"2021-05-02T15:00:35.951000\", \"2021-05-02T16:01:37.611000\", \"2021-05-02T17:01:22.600000\", \"2021-05-02T18:02:18.058000\", \"2021-05-02T19:02:42.780000\", \"2021-05-02T20:04:49.254000\", \"2021-05-02T21:04:01.121000\", \"2021-05-02T22:01:38.255000\", \"2021-05-02T23:04:24.825000\", \"2021-05-03T00:00:41.813000\", \"2021-05-03T01:07:23.983000\", \"2021-05-03T02:04:21.684000\", \"2021-05-03T03:03:41.946000\", \"2021-05-03T04:02:55.911000\", \"2021-05-03T05:02:52.637000\", \"2021-05-03T06:01:04.186000\", \"2021-05-03T07:05:01.093000\", \"2021-05-03T08:05:32.779000\", \"2021-05-03T09:04:35.592000\", \"2021-05-03T10:04:15.750000\", \"2021-05-03T11:10:22.370000\", \"2021-05-03T12:03:20.694000\", \"2021-05-03T13:07:40.306000\", \"2021-05-03T14:03:26.941000\", \"2021-05-03T15:03:14.505000\", \"2021-05-03T16:04:40.082000\", \"2021-05-03T17:04:50.891000\", \"2021-05-03T18:04:13.813000\", \"2021-05-03T19:04:44.092000\", \"2021-05-03T20:02:05.795000\", \"2021-05-03T21:03:59.657000\", \"2021-05-03T22:02:12.390000\", \"2021-05-03T23:00:27.589000\", \"2021-05-04T00:06:49.376000\", \"2021-05-04T01:04:40.655000\", \"2021-05-04T02:02:56.375000\", \"2021-05-04T03:02:46.507000\", \"2021-05-04T04:04:32.298000\", \"2021-05-04T05:04:22.262000\", \"2021-05-04T06:05:02.843000\", \"2021-05-04T07:04:34.629000\", \"2021-05-04T08:04:59.332000\", \"2021-05-04T09:08:25.691000\", \"2021-05-04T10:02:29.302000\", \"2021-05-04T11:03:50.565000\", \"2021-05-04T12:00:57.401000\", \"2021-05-04T13:01:31.586000\", \"2021-05-04T14:07:06.240000\", \"2021-05-04T15:27:37.553000\", \"2021-05-04T16:01:51.303000\", \"2021-05-04T17:04:11.346000\", \"2021-05-04T18:00:36.261000\", \"2021-05-04T19:05:17.828000\", \"2021-05-04T20:01:35.178000\", \"2021-05-04T21:00:38.168000\", \"2021-05-04T22:02:51.368000\", \"2021-05-04T23:00:42.225000\", \"2021-05-05T00:03:28.233000\", \"2021-05-05T01:04:54.001000\", \"2021-05-05T02:28:40.146000\", \"2021-05-05T03:00:54.837000\", \"2021-05-05T04:02:41.205000\", \"2021-05-05T05:05:38.648000\", \"2021-05-05T06:02:26.418000\", \"2021-05-05T07:05:47.231000\", \"2021-05-05T08:03:38.491000\", \"2021-05-05T09:03:22.835000\", \"2021-05-05T10:03:56.458000\", \"2021-05-05T11:03:39.283000\", \"2021-05-05T12:06:02.923000\", \"2021-05-05T13:02:16.609000\", \"2021-05-05T14:05:50.300000\", \"2021-05-05T15:03:57.713000\", \"2021-05-05T16:04:46.572000\", \"2021-05-05T17:02:08.874000\", \"2021-05-05T18:03:14.727000\", \"2021-05-05T19:04:20.301000\", \"2021-05-05T20:13:50.505000\", \"2021-05-05T21:01:12.539000\", \"2021-05-05T22:00:51.815000\", \"2021-05-05T23:02:04.922000\", \"2021-05-06T00:02:58.716000\", \"2021-05-06T01:05:34.916000\", \"2021-05-06T02:01:57.694000\", \"2021-05-06T03:02:54.826000\", \"2021-05-06T04:05:36.743000\", \"2021-05-06T05:02:56.272000\", \"2021-05-06T06:03:20.989000\", \"2021-05-06T07:05:47.302000\", \"2021-05-06T08:02:45.127000\", \"2021-05-06T09:02:09.669000\", \"2021-05-06T10:00:47.574000\", \"2021-05-06T11:05:04.298000\", \"2021-05-06T12:05:25.628000\", \"2021-05-06T13:02:29.413000\", \"2021-05-06T14:01:30.336000\", \"2021-05-06T15:00:40.996000\", \"2021-05-06T16:01:37.885000\", \"2021-05-06T17:02:59.898000\", \"2021-05-06T18:04:15.129000\", \"2021-05-06T19:06:41.049000\", \"2021-05-06T20:00:57.346000\", \"2021-05-06T21:02:17.754000\", \"2021-05-06T22:07:04.963000\", \"2021-05-06T23:04:50.199000\", \"2021-05-07T00:03:14.398000\", \"2021-05-07T01:00:47.280000\", \"2021-05-07T02:03:23.716000\", \"2021-05-07T03:01:39.781000\", \"2021-05-07T04:04:22.856000\", \"2021-05-07T05:05:14.498000\", \"2021-05-07T06:05:58.592000\", \"2021-05-07T07:03:13.912000\", \"2021-05-07T08:02:18.428000\", \"2021-05-07T09:00:49.245000\", \"2021-05-07T10:04:25.587000\", \"2021-05-07T11:01:30.635000\", \"2021-05-07T12:04:04.921000\", \"2021-05-07T13:02:29.348000\", \"2021-05-07T14:02:31.396000\", \"2021-05-07T15:02:12.450000\", \"2021-05-07T16:05:39.906000\", \"2021-05-07T17:04:21.650000\", \"2021-05-07T18:00:20.954000\", \"2021-05-07T19:02:22.716000\", \"2021-05-07T20:02:34.116000\", \"2021-05-07T21:01:33.148000\", \"2021-05-07T22:03:55.458000\", \"2021-05-07T23:04:52.672000\", \"2021-05-08T00:01:30.624000\", \"2021-05-08T01:02:30.563000\", \"2021-05-08T02:04:11.263000\", \"2021-05-08T03:01:49.231000\", \"2021-05-08T04:04:17.403000\", \"2021-05-08T05:03:36.644000\", \"2021-05-08T06:00:44.302000\", \"2021-05-08T07:00:21.147000\", \"2021-05-08T08:02:11.442000\", \"2021-05-08T09:02:17.821000\", \"2021-05-08T10:03:06.895000\", \"2021-05-08T11:04:03.242000\", \"2021-05-08T12:05:38.697000\", \"2021-05-08T13:38:42.011000\", \"2021-05-08T14:01:03.942000\", \"2021-05-08T15:00:14.013000\", \"2021-05-08T16:02:21.773000\", \"2021-05-08T17:02:32.156000\", \"2021-05-08T18:01:39.934000\", \"2021-05-08T19:01:39.228000\", \"2021-05-08T20:02:12.655000\", \"2021-05-08T21:00:31.969000\", \"2021-05-08T22:02:58.617000\", \"2021-05-08T23:03:28.094000\", \"2021-05-09T00:03:25.393000\", \"2021-05-09T01:05:59.376000\", \"2021-05-09T02:01:16.486000\", \"2021-05-09T03:01:59.585000\", \"2021-05-09T04:02:11.705000\", \"2021-05-09T05:02:46.066000\", \"2021-05-09T06:02:33.122000\", \"2021-05-09T07:02:03.872000\", \"2021-05-09T08:03:01.049000\", \"2021-05-09T09:01:34.560000\", \"2021-05-09T10:02:50.755000\", \"2021-05-09T11:02:05.273000\", \"2021-05-09T12:03:15.804000\", \"2021-05-09T13:10:55.520000\", \"2021-05-09T14:01:25.550000\", \"2021-05-09T15:03:05.434000\", \"2021-05-09T16:02:59.452000\", \"2021-05-09T17:02:55.449000\", \"2021-05-09T18:01:04.054000\", \"2021-05-09T19:00:55.388000\", \"2021-05-09T20:02:15.527000\", \"2021-05-09T21:02:46.710000\", \"2021-05-09T22:02:38.083000\", \"2021-05-09T23:03:04.111000\", \"2021-05-10T00:04:21.429000\", \"2021-05-10T01:06:46.025000\", \"2021-05-10T02:00:53.480000\", \"2021-05-10T03:02:36.653000\", \"2021-05-10T04:02:23.112000\", \"2021-05-10T05:01:53.846000\", \"2021-05-10T06:02:10.060000\", \"2021-05-10T07:02:22.315000\", \"2021-05-10T08:03:40.011000\", \"2021-05-10T09:01:29.677000\", \"2021-05-10T10:01:03.870000\", \"2021-05-10T11:02:50.231000\", \"2021-05-10T12:02:48.825000\", \"2021-05-10T13:15:45.916000\", \"2021-05-10T14:01:38.433000\", \"2021-05-10T15:01:53.971000\", \"2021-05-10T16:01:20.850000\", \"2021-05-10T17:02:13.832000\", \"2021-05-10T18:02:33.905000\", \"2021-05-10T19:02:36.422000\", \"2021-05-10T20:02:44.675000\", \"2021-05-10T21:03:01.083000\", \"2021-05-10T22:01:36.840000\", \"2021-05-10T23:02:48.554000\", \"2021-05-11T00:02:02.924000\", \"2021-05-11T01:10:06.198000\", \"2021-05-11T02:01:25.443000\", \"2021-05-11T03:03:45.719000\", \"2021-05-11T04:02:09.314000\", \"2021-05-11T05:01:55.288000\", \"2021-05-11T06:02:28.860000\", \"2021-05-11T07:02:05.154000\", \"2021-05-11T08:02:51.428000\", \"2021-05-11T09:03:27.122000\", \"2021-05-11T10:02:38.465000\", \"2021-05-11T11:01:12.022000\", \"2021-05-11T12:03:11.102000\", \"2021-05-11T13:33:59.652000\", \"2021-05-11T14:01:11.142000\", \"2021-05-11T15:02:27.484000\", \"2021-05-11T16:02:29.706000\", \"2021-05-11T17:03:02.550000\", \"2021-05-11T18:01:06.701000\", \"2021-05-11T19:03:27.054000\", \"2021-05-11T20:03:57.324000\", \"2021-05-11T21:01:28.577000\", \"2021-05-11T22:02:09.314000\", \"2021-05-11T23:03:29.158000\", \"2021-05-12T00:02:11.889000\", \"2021-05-12T01:10:23.416000\", \"2021-05-12T02:01:30.750000\", \"2021-05-12T03:02:28.972000\", \"2021-05-12T04:02:19.946000\", \"2021-05-12T05:02:04.913000\", \"2021-05-12T06:02:59.221000\", \"2021-05-12T07:03:04.791000\", \"2021-05-12T08:01:00.119000\", \"2021-05-12T09:00:41.802000\", \"2021-05-12T10:00:28.813000\", \"2021-05-12T11:03:29.858000\", \"2021-05-12T12:03:02.538000\", \"2021-05-12T13:21:05.668000\", \"2021-05-12T14:01:29.158000\", \"2021-05-12T15:01:53.227000\", \"2021-05-12T16:01:32.892000\", \"2021-05-12T17:03:17.313000\", \"2021-05-12T18:02:56.076000\", \"2021-05-12T19:00:16.721000\", \"2021-05-12T20:02:27.518000\", \"2021-05-12T21:01:09.937000\", \"2021-05-12T22:03:07.769000\", \"2021-05-12T23:03:51.304000\", \"2021-05-13T00:03:22.195000\", \"2021-05-13T01:07:43.787000\", \"2021-05-13T02:02:41.400000\", \"2021-05-13T03:00:44.810000\", \"2021-05-13T04:06:27.225000\", \"2021-05-13T05:02:54.604000\", \"2021-05-13T06:01:48.189000\", \"2021-05-13T07:02:42.877000\", \"2021-05-13T08:02:17.635000\", \"2021-05-13T09:01:31.165000\", \"2021-05-13T10:01:13.786000\", \"2021-05-13T11:03:29.636000\", \"2021-05-13T12:01:41.608000\", \"2021-05-13T13:11:30.105000\", \"2021-05-13T14:01:55.969000\", \"2021-05-13T15:01:01.614000\", \"2021-05-13T16:02:12.673000\", \"2021-05-13T17:01:26.580000\", \"2021-05-13T18:03:48.578000\", \"2021-05-13T19:01:30.765000\", \"2021-05-13T20:03:10.080000\", \"2021-05-13T21:03:36.296000\", \"2021-05-13T22:02:29.171000\", \"2021-05-13T23:02:43.318000\", \"2021-05-14T00:02:33.824000\", \"2021-05-14T01:07:01.866000\", \"2021-05-14T02:01:00.668000\", \"2021-05-14T03:02:32.796000\", \"2021-05-14T04:01:51.873000\", \"2021-05-14T05:01:54.661000\", \"2021-05-14T06:03:18.145000\", \"2021-05-14T07:02:48.426000\", \"2021-05-14T08:01:06.888000\", \"2021-05-14T09:01:46.744000\", \"2021-05-14T10:00:21.011000\", \"2021-05-14T11:01:47.148000\", \"2021-05-14T12:03:22.970000\", \"2021-05-14T13:12:55.636000\", \"2021-05-14T14:03:04.213000\", \"2021-05-14T15:01:18.590000\", \"2021-05-14T16:02:09.882000\", \"2021-05-14T17:01:30.364000\", \"2021-05-14T18:02:43.474000\", \"2021-05-14T19:00:57.686000\", \"2021-05-14T20:02:57.724000\", \"2021-05-14T21:01:44.451000\", \"2021-05-14T22:01:01.848000\", \"2021-05-14T23:03:11.361000\", \"2021-05-15T00:00:42.094000\", \"2021-05-15T01:06:39.670000\", \"2021-05-15T02:01:26.911000\", \"2021-05-15T03:00:54.309000\", \"2021-05-15T04:02:28.342000\", \"2021-05-15T05:01:15.276000\", \"2021-05-15T06:09:46.831000\", \"2021-05-15T07:02:53.112000\", \"2021-05-15T08:02:34.327000\", \"2021-05-15T09:02:35.222000\", \"2021-05-15T10:01:15.110000\", \"2021-05-15T11:01:58.376000\", \"2021-05-15T12:01:58.072000\", \"2021-05-15T13:11:29.695000\", \"2021-05-15T14:02:14.184000\", \"2021-05-15T15:02:51.086000\", \"2021-05-15T16:03:20.214000\", \"2021-05-15T17:01:47.348000\", \"2021-05-15T18:02:57.350000\", \"2021-05-15T19:03:09.558000\", \"2021-05-15T20:02:31.379000\", \"2021-05-15T21:02:55.824000\", \"2021-05-15T22:02:07.690000\", \"2021-05-15T23:01:11.380000\", \"2021-05-16T00:01:43.540000\", \"2021-05-16T01:06:49.478000\", \"2021-05-16T02:01:58.085000\", \"2021-05-16T03:02:59.634000\", \"2021-05-16T04:02:24.860000\", \"2021-05-16T05:00:51.344000\", \"2021-05-16T06:02:03.856000\", \"2021-05-16T07:00:16.880000\", \"2021-05-16T08:02:39.898000\", \"2021-05-16T09:02:16.753000\", \"2021-05-16T10:03:07.528000\", \"2021-05-16T11:02:51.396000\", \"2021-05-16T12:01:54.901000\", \"2021-05-16T13:12:31.078000\", \"2021-05-16T14:01:38.199000\", \"2021-05-16T15:02:06.320000\", \"2021-05-16T16:02:40.163000\", \"2021-05-16T17:01:52.733000\", \"2021-05-16T18:00:57.420000\", \"2021-05-16T19:01:58.477000\", \"2021-05-16T20:01:58.716000\", \"2021-05-16T21:01:59.957000\", \"2021-05-16T22:01:00.119000\", \"2021-05-16T23:04:41.669000\", \"2021-05-17T00:00:33.131000\", \"2021-05-17T01:07:18.258000\", \"2021-05-17T02:01:00.019000\", \"2021-05-17T03:02:34.625000\", \"2021-05-17T04:02:41.240000\", \"2021-05-17T05:02:46.037000\", \"2021-05-17T06:02:15.300000\", \"2021-05-17T07:03:49.641000\", \"2021-05-17T08:29:19.669000\", \"2021-05-17T09:03:19.991000\", \"2021-05-17T10:01:26.514000\", \"2021-05-17T11:01:06.714000\", \"2021-05-17T12:04:10.304000\", \"2021-05-17T13:43:55.266000\", \"2021-05-17T14:00:47.632000\", \"2021-05-17T15:03:05.577000\", \"2021-05-17T16:00:53.267000\", \"2021-05-17T17:01:25.886000\", \"2021-05-17T18:03:32.353000\", \"2021-05-17T19:01:35.740000\", \"2021-05-17T20:02:50.034000\", \"2021-05-17T21:02:16.480000\", \"2021-05-17T22:02:22.854000\", \"2021-05-17T23:02:31.041000\", \"2021-05-18T00:01:33.484000\", \"2021-05-18T01:00:49.898000\", \"2021-05-18T02:01:40.944000\", \"2021-05-18T03:01:53.723000\", \"2021-05-18T04:02:43.958000\", \"2021-05-18T05:01:46.449000\", \"2021-05-18T06:02:06.623000\", \"2021-05-18T07:01:24.685000\", \"2021-05-18T08:01:30.630000\", \"2021-05-18T09:01:00.147000\", \"2021-05-18T10:01:02.637000\", \"2021-05-18T11:01:44.703000\", \"2021-05-18T12:04:06.442000\", \"2021-05-18T13:01:14.894000\", \"2021-05-18T14:11:44.245000\", \"2021-05-18T15:04:08.880000\", \"2021-05-18T16:01:46.214000\", \"2021-05-18T17:02:47.670000\", \"2021-05-18T18:02:55.353000\", \"2021-05-18T19:02:28.517000\", \"2021-05-18T20:02:24.306000\", \"2021-05-18T21:03:27.346000\", \"2021-05-18T22:02:14.642000\", \"2021-05-18T23:02:46.724000\", \"2021-05-19T00:01:37.749000\", \"2021-05-19T01:03:22.560000\", \"2021-05-19T02:02:42.496000\", \"2021-05-19T03:01:51.105000\", \"2021-05-19T04:03:09.537000\", \"2021-05-19T05:02:47.423000\", \"2021-05-19T06:04:54.088000\", \"2021-05-19T07:02:11.260000\", \"2021-05-19T08:03:40.095000\", \"2021-05-19T09:01:29.161000\", \"2021-05-19T10:02:17.481000\", \"2021-05-19T11:02:26.913000\", \"2021-05-19T12:03:07.961000\", \"2021-05-19T13:03:50.507000\", \"2021-05-19T14:04:06.874000\", \"2021-05-19T15:02:30.303000\", \"2021-05-19T16:05:23.371000\", \"2021-05-19T17:42:31.055000\", \"2021-05-19T18:38:24.867000\", \"2021-05-19T19:34:35.199000\", \"2021-05-19T20:31:18.504000\", \"2021-05-19T21:26:29.622000\", \"2021-05-19T22:40:23.689000\", \"2021-05-19T23:06:35.771000\", \"2021-05-20T00:27:34.837000\", \"2021-05-20T01:43:11.464000\", \"2021-05-20T02:39:17.793000\", \"2021-05-20T03:35:09.928000\", \"2021-05-20T04:23:58.575000\", \"2021-05-20T05:39:59.238000\", \"2021-05-20T06:03:30.330000\", \"2021-05-20T07:37:37.103000\", \"2021-05-20T08:39:42.460000\", \"2021-05-20T09:30:48.872000\", \"2021-05-20T10:26:10.601000\", \"2021-05-20T11:16:32.249000\", \"2021-05-20T12:33:32.136000\", \"2021-05-20T13:13:36.346000\", \"2021-05-20T14:28:32.254000\", \"2021-05-20T15:33:54.455000\", \"2021-05-20T16:05:56.352000\", \"2021-05-20T17:06:37.248000\", \"2021-05-20T18:02:31.491000\", \"2021-05-20T19:28:17.610000\", \"2021-05-20T20:29:44.237000\", \"2021-05-20T21:25:58.331000\", \"2021-05-20T22:33:30.126000\", \"2021-05-20T23:04:30.462000\", \"2021-05-21T00:33:42.708000\", \"2021-05-21T01:06:23.966000\", \"2021-05-21T02:34:39.578000\", \"2021-05-21T03:22:18.006000\", \"2021-05-21T04:10:26.159000\", \"2021-05-21T05:07:36.234000\", \"2021-05-21T06:25:55.899000\", \"2021-05-21T07:17:26.709000\", \"2021-05-21T08:26:09.010000\", \"2021-05-21T09:04:36.369000\", \"2021-05-21T10:22:14.182000\", \"2021-05-21T11:27:20.521000\", \"2021-05-21T12:08:40.070000\", \"2021-05-21T13:22:19.061000\", \"2021-05-21T14:19:07.412000\", \"2021-05-21T15:21:26.748000\", \"2021-05-21T16:04:31.398000\", \"2021-05-21T17:17:25.295000\", \"2021-05-21T18:26:14.511000\", \"2021-05-21T19:29:40.653000\", \"2021-05-21T20:28:58.447000\", \"2021-05-21T21:27:40.874000\", \"2021-05-21T22:27:28.630000\", \"2021-05-21T23:22:26.365000\", \"2021-05-22T00:28:12.371000\", \"2021-05-22T01:04:10.104000\", \"2021-05-22T02:07:54.972000\", \"2021-05-22T03:19:10.873000\", \"2021-05-22T04:18:23.380000\", \"2021-05-22T05:06:26.704000\", \"2021-05-22T06:28:12.666000\", \"2021-05-22T07:21:09.321000\", \"2021-05-22T08:28:01.690000\", \"2021-05-22T09:21:13.157000\", \"2021-05-22T10:13:44.502000\", \"2021-05-22T11:13:38.288000\", \"2021-05-22T12:04:47.211000\", \"2021-05-22T13:25:26.096000\", \"2021-05-22T14:10:23.578000\", \"2021-05-22T15:27:09.781000\", \"2021-05-22T16:20:41.179000\", \"2021-05-22T17:07:32.773000\", \"2021-05-22T18:26:59.967000\", \"2021-05-22T19:15:49.736000\", \"2021-05-22T20:27:03.092000\", \"2021-05-22T21:13:50.866000\", \"2021-05-22T22:24:13.656000\", \"2021-05-22T23:26:33.525000\", \"2021-05-23T00:14:07.195000\", \"2021-05-23T01:08:19.141000\", \"2021-05-23T02:07:45.678000\", \"2021-05-23T03:04:53.130000\", \"2021-05-23T04:03:07.404000\", \"2021-05-23T05:04:14.615000\", \"2021-05-23T06:02:45.747000\", \"2021-05-23T07:11:15.416000\", \"2021-05-23T08:08:48.199000\", \"2021-05-23T09:09:39.542000\", \"2021-05-23T10:05:33.366000\", \"2021-05-23T11:03:05.194000\", \"2021-05-23T12:07:02.601000\", \"2021-05-23T13:06:03.343000\", \"2021-05-23T14:06:44.303000\", \"2021-05-23T15:11:12.007000\", \"2021-05-23T16:07:40.588000\", \"2021-05-23T17:05:46.317000\", \"2021-05-23T18:05:10.210000\", \"2021-05-23T19:10:57.446000\", \"2021-05-23T20:09:04.624000\", \"2021-05-23T21:09:29.686000\", \"2021-05-23T22:08:43.797000\", \"2021-05-23T23:06:05.069000\", \"2021-05-24T00:08:51.846000\", \"2021-05-24T01:06:31.012000\", \"2021-05-24T02:08:04.529000\", \"2021-05-24T03:14:14.690000\", \"2021-05-24T04:06:33.943000\", \"2021-05-24T05:04:14.384000\", \"2021-05-24T06:05:41.055000\", \"2021-05-24T06:28:52\"]}],                        {\"template\": {\"data\": {\"bar\": [{\"error_x\": {\"color\": \"#2a3f5f\"}, \"error_y\": {\"color\": \"#2a3f5f\"}, \"marker\": {\"line\": {\"color\": \"#E5ECF6\", \"width\": 0.5}}, \"type\": \"bar\"}], \"barpolar\": [{\"marker\": {\"line\": {\"color\": \"#E5ECF6\", \"width\": 0.5}}, \"type\": \"barpolar\"}], \"carpet\": [{\"aaxis\": {\"endlinecolor\": \"#2a3f5f\", \"gridcolor\": \"white\", \"linecolor\": \"white\", \"minorgridcolor\": \"white\", \"startlinecolor\": \"#2a3f5f\"}, \"baxis\": {\"endlinecolor\": \"#2a3f5f\", \"gridcolor\": \"white\", \"linecolor\": \"white\", \"minorgridcolor\": \"white\", \"startlinecolor\": \"#2a3f5f\"}, \"type\": \"carpet\"}], \"choropleth\": [{\"colorbar\": {\"outlinewidth\": 0, \"ticks\": \"\"}, \"type\": \"choropleth\"}], \"contour\": [{\"colorbar\": {\"outlinewidth\": 0, \"ticks\": \"\"}, \"colorscale\": [[0.0, \"#0d0887\"], [0.1111111111111111, \"#46039f\"], [0.2222222222222222, \"#7201a8\"], [0.3333333333333333, \"#9c179e\"], [0.4444444444444444, \"#bd3786\"], [0.5555555555555556, \"#d8576b\"], [0.6666666666666666, \"#ed7953\"], [0.7777777777777778, \"#fb9f3a\"], [0.8888888888888888, \"#fdca26\"], [1.0, \"#f0f921\"]], \"type\": \"contour\"}], \"contourcarpet\": [{\"colorbar\": {\"outlinewidth\": 0, \"ticks\": \"\"}, \"type\": \"contourcarpet\"}], \"heatmap\": [{\"colorbar\": {\"outlinewidth\": 0, \"ticks\": \"\"}, \"colorscale\": [[0.0, \"#0d0887\"], [0.1111111111111111, \"#46039f\"], [0.2222222222222222, \"#7201a8\"], [0.3333333333333333, \"#9c179e\"], [0.4444444444444444, \"#bd3786\"], [0.5555555555555556, \"#d8576b\"], [0.6666666666666666, \"#ed7953\"], [0.7777777777777778, \"#fb9f3a\"], [0.8888888888888888, \"#fdca26\"], [1.0, \"#f0f921\"]], \"type\": \"heatmap\"}], \"heatmapgl\": [{\"colorbar\": {\"outlinewidth\": 0, \"ticks\": \"\"}, \"colorscale\": [[0.0, \"#0d0887\"], [0.1111111111111111, \"#46039f\"], [0.2222222222222222, \"#7201a8\"], [0.3333333333333333, \"#9c179e\"], [0.4444444444444444, \"#bd3786\"], [0.5555555555555556, \"#d8576b\"], [0.6666666666666666, \"#ed7953\"], [0.7777777777777778, \"#fb9f3a\"], [0.8888888888888888, \"#fdca26\"], [1.0, \"#f0f921\"]], \"type\": \"heatmapgl\"}], \"histogram\": [{\"marker\": {\"colorbar\": {\"outlinewidth\": 0, \"ticks\": \"\"}}, \"type\": \"histogram\"}], \"histogram2d\": [{\"colorbar\": {\"outlinewidth\": 0, \"ticks\": \"\"}, \"colorscale\": [[0.0, \"#0d0887\"], [0.1111111111111111, \"#46039f\"], [0.2222222222222222, \"#7201a8\"], [0.3333333333333333, \"#9c179e\"], [0.4444444444444444, \"#bd3786\"], [0.5555555555555556, \"#d8576b\"], [0.6666666666666666, \"#ed7953\"], [0.7777777777777778, \"#fb9f3a\"], [0.8888888888888888, \"#fdca26\"], [1.0, \"#f0f921\"]], \"type\": \"histogram2d\"}], \"histogram2dcontour\": [{\"colorbar\": {\"outlinewidth\": 0, \"ticks\": \"\"}, \"colorscale\": [[0.0, \"#0d0887\"], [0.1111111111111111, \"#46039f\"], [0.2222222222222222, \"#7201a8\"], [0.3333333333333333, \"#9c179e\"], [0.4444444444444444, \"#bd3786\"], [0.5555555555555556, \"#d8576b\"], [0.6666666666666666, \"#ed7953\"], [0.7777777777777778, \"#fb9f3a\"], [0.8888888888888888, \"#fdca26\"], [1.0, \"#f0f921\"]], \"type\": \"histogram2dcontour\"}], \"mesh3d\": [{\"colorbar\": {\"outlinewidth\": 0, \"ticks\": \"\"}, \"type\": \"mesh3d\"}], \"parcoords\": [{\"line\": {\"colorbar\": {\"outlinewidth\": 0, \"ticks\": \"\"}}, \"type\": \"parcoords\"}], \"pie\": [{\"automargin\": true, \"type\": \"pie\"}], \"scatter\": [{\"marker\": {\"colorbar\": {\"outlinewidth\": 0, \"ticks\": \"\"}}, \"type\": \"scatter\"}], \"scatter3d\": [{\"line\": {\"colorbar\": {\"outlinewidth\": 0, \"ticks\": \"\"}}, \"marker\": {\"colorbar\": {\"outlinewidth\": 0, \"ticks\": \"\"}}, \"type\": \"scatter3d\"}], \"scattercarpet\": [{\"marker\": {\"colorbar\": {\"outlinewidth\": 0, \"ticks\": \"\"}}, \"type\": \"scattercarpet\"}], \"scattergeo\": [{\"marker\": {\"colorbar\": {\"outlinewidth\": 0, \"ticks\": \"\"}}, \"type\": \"scattergeo\"}], \"scattergl\": [{\"marker\": {\"colorbar\": {\"outlinewidth\": 0, \"ticks\": \"\"}}, \"type\": \"scattergl\"}], \"scattermapbox\": [{\"marker\": {\"colorbar\": {\"outlinewidth\": 0, \"ticks\": \"\"}}, \"type\": \"scattermapbox\"}], \"scatterpolar\": [{\"marker\": {\"colorbar\": {\"outlinewidth\": 0, \"ticks\": \"\"}}, \"type\": \"scatterpolar\"}], \"scatterpolargl\": [{\"marker\": {\"colorbar\": {\"outlinewidth\": 0, \"ticks\": \"\"}}, \"type\": \"scatterpolargl\"}], \"scatterternary\": [{\"marker\": {\"colorbar\": {\"outlinewidth\": 0, \"ticks\": \"\"}}, \"type\": \"scatterternary\"}], \"surface\": [{\"colorbar\": {\"outlinewidth\": 0, \"ticks\": \"\"}, \"colorscale\": [[0.0, \"#0d0887\"], [0.1111111111111111, \"#46039f\"], [0.2222222222222222, \"#7201a8\"], [0.3333333333333333, \"#9c179e\"], [0.4444444444444444, \"#bd3786\"], [0.5555555555555556, \"#d8576b\"], [0.6666666666666666, \"#ed7953\"], [0.7777777777777778, \"#fb9f3a\"], [0.8888888888888888, \"#fdca26\"], [1.0, \"#f0f921\"]], \"type\": \"surface\"}], \"table\": [{\"cells\": {\"fill\": {\"color\": \"#EBF0F8\"}, \"line\": {\"color\": \"white\"}}, \"header\": {\"fill\": {\"color\": \"#C8D4E3\"}, \"line\": {\"color\": \"white\"}}, \"type\": \"table\"}]}, \"layout\": {\"annotationdefaults\": {\"arrowcolor\": \"#2a3f5f\", \"arrowhead\": 0, \"arrowwidth\": 1}, \"autotypenumbers\": \"strict\", \"coloraxis\": {\"colorbar\": {\"outlinewidth\": 0, \"ticks\": \"\"}}, \"colorscale\": {\"diverging\": [[0, \"#8e0152\"], [0.1, \"#c51b7d\"], [0.2, \"#de77ae\"], [0.3, \"#f1b6da\"], [0.4, \"#fde0ef\"], [0.5, \"#f7f7f7\"], [0.6, \"#e6f5d0\"], [0.7, \"#b8e186\"], [0.8, \"#7fbc41\"], [0.9, \"#4d9221\"], [1, \"#276419\"]], \"sequential\": [[0.0, \"#0d0887\"], [0.1111111111111111, \"#46039f\"], [0.2222222222222222, \"#7201a8\"], [0.3333333333333333, \"#9c179e\"], [0.4444444444444444, \"#bd3786\"], [0.5555555555555556, \"#d8576b\"], [0.6666666666666666, \"#ed7953\"], [0.7777777777777778, \"#fb9f3a\"], [0.8888888888888888, \"#fdca26\"], [1.0, \"#f0f921\"]], \"sequentialminus\": [[0.0, \"#0d0887\"], [0.1111111111111111, \"#46039f\"], [0.2222222222222222, \"#7201a8\"], [0.3333333333333333, \"#9c179e\"], [0.4444444444444444, \"#bd3786\"], [0.5555555555555556, \"#d8576b\"], [0.6666666666666666, \"#ed7953\"], [0.7777777777777778, \"#fb9f3a\"], [0.8888888888888888, \"#fdca26\"], [1.0, \"#f0f921\"]]}, \"colorway\": [\"#636efa\", \"#EF553B\", \"#00cc96\", \"#ab63fa\", \"#FFA15A\", \"#19d3f3\", \"#FF6692\", \"#B6E880\", \"#FF97FF\", \"#FECB52\"], \"font\": {\"color\": \"#2a3f5f\"}, \"geo\": {\"bgcolor\": \"white\", \"lakecolor\": \"white\", \"landcolor\": \"#E5ECF6\", \"showlakes\": true, \"showland\": true, \"subunitcolor\": \"white\"}, \"hoverlabel\": {\"align\": \"left\"}, \"hovermode\": \"closest\", \"mapbox\": {\"style\": \"light\"}, \"paper_bgcolor\": \"white\", \"plot_bgcolor\": \"#E5ECF6\", \"polar\": {\"angularaxis\": {\"gridcolor\": \"white\", \"linecolor\": \"white\", \"ticks\": \"\"}, \"bgcolor\": \"#E5ECF6\", \"radialaxis\": {\"gridcolor\": \"white\", \"linecolor\": \"white\", \"ticks\": \"\"}}, \"scene\": {\"xaxis\": {\"backgroundcolor\": \"#E5ECF6\", \"gridcolor\": \"white\", \"gridwidth\": 2, \"linecolor\": \"white\", \"showbackground\": true, \"ticks\": \"\", \"zerolinecolor\": \"white\"}, \"yaxis\": {\"backgroundcolor\": \"#E5ECF6\", \"gridcolor\": \"white\", \"gridwidth\": 2, \"linecolor\": \"white\", \"showbackground\": true, \"ticks\": \"\", \"zerolinecolor\": \"white\"}, \"zaxis\": {\"backgroundcolor\": \"#E5ECF6\", \"gridcolor\": \"white\", \"gridwidth\": 2, \"linecolor\": \"white\", \"showbackground\": true, \"ticks\": \"\", \"zerolinecolor\": \"white\"}}, \"shapedefaults\": {\"line\": {\"color\": \"#2a3f5f\"}}, \"ternary\": {\"aaxis\": {\"gridcolor\": \"white\", \"linecolor\": \"white\", \"ticks\": \"\"}, \"baxis\": {\"gridcolor\": \"white\", \"linecolor\": \"white\", \"ticks\": \"\"}, \"bgcolor\": \"#E5ECF6\", \"caxis\": {\"gridcolor\": \"white\", \"linecolor\": \"white\", \"ticks\": \"\"}}, \"title\": {\"x\": 0.05}, \"xaxis\": {\"automargin\": true, \"gridcolor\": \"white\", \"linecolor\": \"white\", \"ticks\": \"\", \"title\": {\"standoff\": 15}, \"zerolinecolor\": \"white\", \"zerolinewidth\": 2}, \"yaxis\": {\"automargin\": true, \"gridcolor\": \"white\", \"linecolor\": \"white\", \"ticks\": \"\", \"title\": {\"standoff\": 15}, \"zerolinecolor\": \"white\", \"zerolinewidth\": 2}}}, \"xaxis\": {\"rangeslider\": {\"visible\": false}}},                        {\"responsive\": true}                    ).then(function(){\n",
       "                            \n",
       "var gd = document.getElementById('289dacfa-717a-45dc-bcb8-7b6e42974ee5');\n",
       "var x = new MutationObserver(function (mutations, observer) {{\n",
       "        var display = window.getComputedStyle(gd).display;\n",
       "        if (!display || display === 'none') {{\n",
       "            console.log([gd, 'removed!']);\n",
       "            Plotly.purge(gd);\n",
       "            observer.disconnect();\n",
       "        }}\n",
       "}});\n",
       "\n",
       "// Listen for the removal of the full notebook cells\n",
       "var notebookContainer = gd.closest('#notebook-container');\n",
       "if (notebookContainer) {{\n",
       "    x.observe(notebookContainer, {childList: true});\n",
       "}}\n",
       "\n",
       "// Listen for the clearing of the current output cell\n",
       "var outputEl = gd.closest('.output');\n",
       "if (outputEl) {{\n",
       "    x.observe(outputEl, {childList: true});\n",
       "}}\n",
       "\n",
       "                        })                };                });            </script>        </div>"
      ]
     },
     "metadata": {},
     "output_type": "display_data"
    }
   ],
   "source": [
    "fig = go.Figure(data=[go.Candlestick(x=data['Date'],\n",
    "                open=candlestick_data['Price']['first'], \n",
    "                high=candlestick_data['Price']['max'],\n",
    "                low=candlestick_data['Price']['min'], \n",
    "                close=candlestick_data['Price']['last'])\n",
    "                ])\n",
    "\n",
    "fig.update_layout(xaxis_rangeslider_visible=False)\n",
    "\n",
    "fig.show()"
   ]
  },
  {
   "cell_type": "markdown",
   "metadata": {},
   "source": [
    "## Authors:\n",
    "\n",
    "## Change Log\n",
    "\n",
    "| Date (YYYY-MM-DD) | Version | Changed By    | Change Description                 |\n",
    "| ----------------- | ------- | ------------- | ---------------------------------- |\n",
    "| 2020-11-23        | 3.0     | Azim Hirjani  | New API                            |\n",
    "| 2020-09-09        | 2.1     | Malika Singla | Spell Check                        |\n",
    "| 2020-08-26        | 2.0     | Lavanya       | Moved lab to course repo in GitLab |\n",
    "|                   |         |               |                                    |\n",
    "\n",
    "<hr/>\n",
    "\n",
    "## <h3 align=\"center\"> © IBM Corporation 2020. All rights reserved. <h3/>\n"
   ]
  },
  {
   "cell_type": "code",
   "execution_count": null,
   "metadata": {},
   "outputs": [],
   "source": []
  }
 ],
 "metadata": {
  "kernelspec": {
   "display_name": "Python 3",
   "language": "python",
   "name": "python3"
  },
  "language_info": {
   "codemirror_mode": {
    "name": "ipython",
    "version": 3
   },
   "file_extension": ".py",
   "mimetype": "text/x-python",
   "name": "python",
   "nbconvert_exporter": "python",
   "pygments_lexer": "ipython3",
   "version": "3.8.5"
  }
 },
 "nbformat": 4,
 "nbformat_minor": 4
}
